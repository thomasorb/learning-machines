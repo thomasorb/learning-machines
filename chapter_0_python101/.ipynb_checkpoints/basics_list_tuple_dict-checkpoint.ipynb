{
 "cells": [
  {
   "cell_type": "markdown",
   "metadata": {},
   "source": [
    "# Python basics on lists, dicts, tuples etc."
   ]
  },
  {
   "cell_type": "markdown",
   "metadata": {},
   "source": [
    "## list"
   ]
  },
  {
   "cell_type": "code",
   "execution_count": 1,
   "metadata": {},
   "outputs": [
    {
     "name": "stdout",
     "output_type": "stream",
     "text": [
      "[1, 'coin', 'meuh', 3.4]\n",
      "['hihan', 'pouet', 'coin', 'meuh', 3.4, 5, 7.8]\n",
      "coin\n",
      "['coin', 'meuh', 3.4, 5, 7.8]\n",
      "7\n",
      "['hihan', 'pouet', 'coin', 'meuh', 3.4, 5, 7.8, 'meuh']\n",
      "[3, 7]\n",
      "[3, 7]\n"
     ]
    }
   ],
   "source": [
    "a = [1, 'coin', 'meuh', 3.4]\n",
    "print a\n",
    "a.append(5) # append a value at the end\n",
    "a.append(7.8)\n",
    "a.insert(1, 'pouet')\n",
    "a[0] = 'hihan'\n",
    "print a\n",
    "print a[2] # value at index 2\n",
    "print a[2:len(a)] # slice of a\n",
    "print len(a)\n",
    "a.append('meuh')\n",
    "print a\n",
    "#for i in a:\n",
    "#    if i == 'meuh': print \n",
    "index_meuh = list()\n",
    "for i in range(len(a)):\n",
    "    if a[i] == 'meuh': index_meuh.append(i)\n",
    "print index_meuh\n",
    "print [i for i in range(len(a)) if a[i] == 'meuh']\n",
    "\n",
    "#for i in range(len(a)):\n",
    "    "
   ]
  },
  {
   "cell_type": "markdown",
   "metadata": {},
   "source": [
    "## tuple"
   ]
  },
  {
   "cell_type": "code",
   "execution_count": 13,
   "metadata": {},
   "outputs": [
    {
     "name": "stdout",
     "output_type": "stream",
     "text": [
      "(1, 'coin', 'meuh', 3.4)\n",
      "coin\n",
      "('coin', 'meuh', 3.4)\n",
      "2\n"
     ]
    },
    {
     "ename": "TypeError",
     "evalue": "'tuple' object does not support item assignment",
     "output_type": "error",
     "traceback": [
      "\u001b[0;31m---------------------------------------------------------------------------\u001b[0m",
      "\u001b[0;31mTypeError\u001b[0m                                 Traceback (most recent call last)",
      "\u001b[0;32m<ipython-input-13-a8dc40955c39>\u001b[0m in \u001b[0;36m<module>\u001b[0;34m()\u001b[0m\n\u001b[1;32m      6\u001b[0m \u001b[0;32mprint\u001b[0m \u001b[0ma\u001b[0m\u001b[0;34m.\u001b[0m\u001b[0mindex\u001b[0m\u001b[0;34m(\u001b[0m\u001b[0;34m'meuh'\u001b[0m\u001b[0;34m)\u001b[0m \u001b[0;31m# get index of a given value\u001b[0m\u001b[0;34m\u001b[0m\u001b[0m\n\u001b[1;32m      7\u001b[0m \u001b[0ma\u001b[0m \u001b[0;34m=\u001b[0m \u001b[0mtuple\u001b[0m\u001b[0;34m(\u001b[0m\u001b[0ma\u001b[0m\u001b[0;34m)\u001b[0m\u001b[0;34m\u001b[0m\u001b[0m\n\u001b[0;32m----> 8\u001b[0;31m \u001b[0ma\u001b[0m\u001b[0;34m[\u001b[0m\u001b[0;36m2\u001b[0m\u001b[0;34m]\u001b[0m \u001b[0;34m=\u001b[0m \u001b[0;34m'hihan'\u001b[0m \u001b[0;31m# lève une exception\u001b[0m\u001b[0;34m\u001b[0m\u001b[0m\n\u001b[0m",
      "\u001b[0;31mTypeError\u001b[0m: 'tuple' object does not support item assignment"
     ]
    }
   ],
   "source": [
    "# Pareil qu'une liste mais ne peut pas être modifié (INMUTABLE)\n",
    "a = (1, 'coin', 'meuh', 3.4)\n",
    "print a\n",
    "print a[1] # value at index 2\n",
    "print a[1:] # slice of a\n",
    "print a.index('meuh') # get index of a given value\n",
    "a = tuple(a)\n",
    "a[2] = 'hihan' # lève une exception"
   ]
  },
  {
   "cell_type": "markdown",
   "metadata": {},
   "source": [
    "## dict"
   ]
  },
  {
   "cell_type": "code",
   "execution_count": 12,
   "metadata": {
    "scrolled": false
   },
   "outputs": [
    {
     "name": "stdout",
     "output_type": "stream",
     "text": [
      "{'vache': 1, 'cochon': 2}\n",
      "1\n",
      "['vache', 'cochon']\n",
      "1\n",
      "2\n"
     ]
    }
   ],
   "source": [
    "a = {'vache':1, 'cochon':2}\n",
    "print a\n",
    "print a['vache']\n",
    "print a.keys()\n",
    "for key in a:\n",
    "    print a[key]"
   ]
  },
  {
   "cell_type": "markdown",
   "metadata": {},
   "source": [
    "## = : copier ou ne pas copier (passage par valeur ou par référence)"
   ]
  },
  {
   "cell_type": "code",
   "execution_count": 3,
   "metadata": {},
   "outputs": [
    {
     "name": "stdout",
     "output_type": "stream",
     "text": [
      "2.0\n",
      "2.0\n",
      "3.0\n",
      "2.0\n"
     ]
    },
    {
     "data": {
      "text/plain": [
       "False"
      ]
     },
     "execution_count": 3,
     "metadata": {},
     "output_type": "execute_result"
    }
   ],
   "source": [
    "# a = b : a et b **ne pointeront pas** vers le même objet\n",
    "a = float(2)\n",
    "b = a\n",
    "print a\n",
    "print b\n",
    "a += 1\n",
    "print a\n",
    "print b\n",
    "a is b\n"
   ]
  },
  {
   "cell_type": "code",
   "execution_count": 4,
   "metadata": {},
   "outputs": [
    {
     "name": "stdout",
     "output_type": "stream",
     "text": [
      "[1, 2, 3]\n",
      "[1, 2, 3]\n",
      "[1, 2, 3, 4]\n",
      "[1, 2, 3, 4]\n"
     ]
    },
    {
     "data": {
      "text/plain": [
       "True"
      ]
     },
     "execution_count": 4,
     "metadata": {},
     "output_type": "execute_result"
    }
   ],
   "source": [
    "a = [1,2,3]\n",
    "b = a # a et b **pointeront** vers le même objet\n",
    "print a\n",
    "print b\n",
    "a.append(4)\n",
    "print a\n",
    "print b\n",
    "a is b"
   ]
  },
  {
   "cell_type": "code",
   "execution_count": 5,
   "metadata": {},
   "outputs": [
    {
     "name": "stdout",
     "output_type": "stream",
     "text": [
      "[1, 2, 3, 'meuh']\n"
     ]
    }
   ],
   "source": [
    "def append_meuh(maliste):\n",
    "    maliste.append('meuh')\n",
    "    return maliste\n",
    "a = [1,2,3]\n",
    "append_meuh(a)\n",
    "print a"
   ]
  },
  {
   "cell_type": "markdown",
   "metadata": {},
   "source": [
    "### comment s'en sortir ?"
   ]
  },
  {
   "cell_type": "code",
   "execution_count": 6,
   "metadata": {},
   "outputs": [
    {
     "name": "stdout",
     "output_type": "stream",
     "text": [
      "[1, 2, 3]\n",
      "[1, 2, 3]\n",
      "[1, 2, 3, 4]\n",
      "[1, 2, 3]\n"
     ]
    },
    {
     "data": {
      "text/plain": [
       "False"
      ]
     },
     "execution_count": 6,
     "metadata": {},
     "output_type": "execute_result"
    }
   ],
   "source": [
    "# l'opération de 'cast', i.e. conversion vers un type, crée toujours une copie\n",
    "a = [1,2,3]\n",
    "b = list(a) # a et b **ne pointeront plus** vers le même objet\n",
    "print a\n",
    "print b\n",
    "a.append(4)\n",
    "print a\n",
    "print b\n",
    "a is b"
   ]
  },
  {
   "cell_type": "markdown",
   "metadata": {},
   "source": [
    "### Attention encore : le problème est le même avec les fonctions"
   ]
  },
  {
   "cell_type": "code",
   "execution_count": 7,
   "metadata": {},
   "outputs": [
    {
     "name": "stdout",
     "output_type": "stream",
     "text": [
      "2\n",
      "2\n"
     ]
    }
   ],
   "source": [
    "def add_1(val):\n",
    "    val += 1\n",
    "    # pas de retour, dans ce cas particulier, la variable val est copiée \n",
    "\n",
    "a = 2\n",
    "print a\n",
    "add_1(a)\n",
    "print a"
   ]
  },
  {
   "cell_type": "code",
   "execution_count": 8,
   "metadata": {},
   "outputs": [
    {
     "name": "stdout",
     "output_type": "stream",
     "text": [
      "[4, 3, 2]\n",
      "[4, 3, 2, 1]\n"
     ]
    }
   ],
   "source": [
    "def append_1(l):\n",
    "    l.append(1)\n",
    "    # pas de retour, la variable l est passée comme une référence et est modifié par la fonction\n",
    "mylist = [4,3,2]\n",
    "print mylist\n",
    "append_1(mylist)\n",
    "print mylist\n"
   ]
  },
  {
   "cell_type": "code",
   "execution_count": 10,
   "metadata": {},
   "outputs": [
    {
     "name": "stdout",
     "output_type": "stream",
     "text": [
      "[4, 3, 2]\n",
      "[4, 3, 2] mylist n'a pas changée\n"
     ]
    }
   ],
   "source": [
    "# pour s'en prémunir, encore une fois l'opération de cast est importante\n",
    "def append_1(l):\n",
    "    l = list(l) # conversion vers son propre type\n",
    "    l.append(1)\n",
    "    # pas de retour, la variable l est passée comme une référence et est modifié par la fonction\n",
    "mylist = [4,3,2]\n",
    "print mylist\n",
    "append_1(mylist)\n",
    "print mylist, \"mylist n'a pas changée\""
   ]
  },
  {
   "cell_type": "code",
   "execution_count": null,
   "metadata": {},
   "outputs": [],
   "source": []
  }
 ],
 "metadata": {
  "kernelspec": {
   "display_name": "orb",
   "language": "python",
   "name": "orb"
  },
  "language_info": {
   "codemirror_mode": {
    "name": "ipython",
    "version": 2
   },
   "file_extension": ".py",
   "mimetype": "text/x-python",
   "name": "python",
   "nbconvert_exporter": "python",
   "pygments_lexer": "ipython2",
   "version": "2.7.14"
  }
 },
 "nbformat": 4,
 "nbformat_minor": 2
}
