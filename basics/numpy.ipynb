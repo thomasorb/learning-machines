{
 "cells": [
  {
   "cell_type": "markdown",
   "metadata": {},
   "source": [
    "# Numpy 101"
   ]
  },
  {
   "cell_type": "code",
   "execution_count": 35,
   "metadata": {},
   "outputs": [],
   "source": [
    "import numpy as np\n",
    "import pylab as pl"
   ]
  },
  {
   "cell_type": "markdown",
   "metadata": {},
   "source": [
    "<div>\n",
    "<img  style=\"left;\" src=\"../images/hall9000.jpg\" width=\"600\"/>\n",
    "</div>\n",
    "\n",
    "https://www.artstation.com/artwork/n5oe6"
   ]
  },
  {
   "cell_type": "markdown",
   "metadata": {},
   "source": [
    "## create an array"
   ]
  },
  {
   "cell_type": "code",
   "execution_count": 28,
   "metadata": {},
   "outputs": [
    {
     "data": {
      "text/plain": [
       "[1, 2, 5, 6, -8, 1]"
      ]
     },
     "execution_count": 28,
     "metadata": {},
     "output_type": "execute_result"
    }
   ],
   "source": [
    "# from a list or a tuple\n",
    "a = [1,2,5,6,-8,1]\n",
    "arr = np.array(a)\n",
    "a"
   ]
  },
  {
   "cell_type": "code",
   "execution_count": 29,
   "metadata": {},
   "outputs": [
    {
     "name": "stdout",
     "output_type": "stream",
     "text": [
      "[0 1 2 3 4]\n",
      "[1 2 3 4 5 6 7 8 9]\n",
      "[ 1  3  5  7  9 11 13 15 17 19]\n",
      "[0.         0.11111111 0.22222222 0.33333333 0.44444444 0.55555556\n",
      " 0.66666667 0.77777778 0.88888889 1.        ]\n",
      "[0. 0. 0. 0. 0.]\n",
      "[1. 1. 1. 1. 1.]\n"
     ]
    }
   ],
   "source": [
    "# from a numpy generator\n",
    "print(np.arange(5)) # range from 0 to 5\n",
    "print(np.arange(1,10)) # range from 1 to 10\n",
    "print(np.arange(1,20,2)) # range from 1 to 10 by steps of 2\n",
    "print(np.linspace(0,1,10)) # linear spacing from 0 to 1 (included) with 10 final values\n",
    "print(np.zeros(5)) # size 5, filled with zeroes\n",
    "print(np.ones(5)) # size 5, filled with ones"
   ]
  },
  {
   "cell_type": "markdown",
   "metadata": {},
   "source": [
    "## operations"
   ]
  },
  {
   "cell_type": "code",
   "execution_count": 30,
   "metadata": {},
   "outputs": [
    {
     "name": "stdout",
     "output_type": "stream",
     "text": [
      "[-5 -3 -1  1  3  5  7  9 11 13]\n",
      "[1.00000000e+00 2.71828183e+00 7.38905610e+00 2.00855369e+01\n",
      " 5.45981500e+01 1.48413159e+02 4.03428793e+02 1.09663316e+03\n",
      " 2.98095799e+03 8.10308393e+03]\n"
     ]
    }
   ],
   "source": [
    "a = np.arange(10)\n",
    "print(a * 2 - 5)\n",
    "print(np.exp(a))"
   ]
  },
  {
   "cell_type": "markdown",
   "metadata": {},
   "source": [
    "### matrix operations"
   ]
  },
  {
   "cell_type": "code",
   "execution_count": 15,
   "metadata": {},
   "outputs": [
    {
     "name": "stdout",
     "output_type": "stream",
     "text": [
      "element-wise\n",
      " [ 0  1  4  9 16 25 36 49 64 81]\n",
      "dot product\n",
      " 285\n",
      "outer product\n",
      " [[ 0  0  0  0  0  0  0  0  0  0]\n",
      " [ 0  1  2  3  4  5  6  7  8  9]\n",
      " [ 0  2  4  6  8 10 12 14 16 18]\n",
      " [ 0  3  6  9 12 15 18 21 24 27]\n",
      " [ 0  4  8 12 16 20 24 28 32 36]\n",
      " [ 0  5 10 15 20 25 30 35 40 45]\n",
      " [ 0  6 12 18 24 30 36 42 48 54]\n",
      " [ 0  7 14 21 28 35 42 49 56 63]\n",
      " [ 0  8 16 24 32 40 48 56 64 72]\n",
      " [ 0  9 18 27 36 45 54 63 72 81]]\n"
     ]
    }
   ],
   "source": [
    "a = np.arange(10)\n",
    "b = np.arange(10)\n",
    "print('element-wise\\n', a * b)\n",
    "print('dot product\\n', a.dot(b))\n",
    "print('outer product\\n', np.outer(a, b))\n"
   ]
  },
  {
   "cell_type": "markdown",
   "metadata": {},
   "source": [
    "## Indexing"
   ]
  },
  {
   "cell_type": "code",
   "execution_count": 16,
   "metadata": {},
   "outputs": [
    {
     "name": "stdout",
     "output_type": "stream",
     "text": [
      "[ 0  1  2  3  4  5  6  7  8  9 10 11]\n",
      "[9 8 7 6 5 4 3 2 1 0]\n",
      "[False False False False False False  True  True  True  True]\n",
      "[False False False False False False  True  True False False]\n",
      "[6 7]\n",
      "[1.         1.10517092 1.22140276 1.34985881 1.4918247  1.64872127\n",
      " 1.8221188  2.01375271 2.22554093 2.45960311]\n",
      "[1.8221188  2.01375271]\n"
     ]
    }
   ],
   "source": [
    "print(np.arange(25)[0:12]) # slicing\n",
    "print(np.arange(10)[::-1]) # revert array\n",
    "print(np.arange(10) > 5) # a comparison operation returns an array of bool ...\n",
    "print((np.arange(10) > 5) * (np.arange(10) < 8)) # ... which are very easy to manipulate\n",
    "# return a list of indexes which can be passed \n",
    "# to an array of same shape\n",
    "a = np.arange(10)\n",
    "indexes = np.nonzero((a > 5) * (a < 8))\n",
    "print(a[indexes])\n",
    "\n",
    "a = np.exp(np.arange(10, dtype=float) / 10.)\n",
    "print(a)\n",
    "print(a[indexes])"
   ]
  },
  {
   "cell_type": "markdown",
   "metadata": {},
   "source": [
    "## A for loop to operate on array is generally a bad idea, think before using it\n",
    "- the operation you want to code **probably already exists** : google it with numpy or scipy as keyword, you will increase your Python knowledge\n",
    "- the operation you want to code **is certainly the combination of simpler operations** which already exist, you will increase your algorithms comprehension\n",
    "- are you sure you want to do this... **if it does not exist, maybe this is because it is useless (or even wrong)**, you will now know that this is wrong\n",
    "- do you have time to wait for this operation to finish ? **It might take less time to code it with Cython or C** and your code, providing it is usefull, would be publishable (a for loop on a numpy array is not something you want to publish)"
   ]
  },
  {
   "cell_type": "code",
   "execution_count": 18,
   "metadata": {},
   "outputs": [
    {
     "name": "stdout",
     "output_type": "stream",
     "text": [
      "[[ 0  1  2  3  4  5  6  7  8  9]\n",
      " [10 11 12 13 14 15 16 17 18 19]\n",
      " [20 21 22 23 24 25 26 27 28 29]\n",
      " [30 31 32 33 34 35 36 37 38 39]\n",
      " [40 41 42 43 44 45 46 47 48 49]\n",
      " [50 51 52 53 54 55 56 57 58 59]\n",
      " [60 61 62 63 64 65 66 67 68 69]\n",
      " [70 71 72 73 74 75 76 77 78 79]\n",
      " [80 81 82 83 84 85 86 87 88 89]\n",
      " [90 91 92 93 94 95 96 97 98 99]]\n",
      "[[   0    1    4    9   16   25   36   49   64   81]\n",
      " [ 100  121  144  169  196  225  256  289  324  361]\n",
      " [ 400  441  484  529  576  625  676  729  784  841]\n",
      " [ 900  961 1024 1089 1156 1225 1296 1369 1444 1521]\n",
      " [1600 1681 1764 1849 1936 2025 2116 2209 2304 2401]\n",
      " [2500 2601 2704 2809 2916 3025 3136 3249 3364 3481]\n",
      " [3600 3721 3844 3969 4096 4225 4356 4489 4624 4761]\n",
      " [4900 5041 5184 5329 5476 5625 5776 5929 6084 6241]\n",
      " [6400 6561 6724 6889 7056 7225 7396 7569 7744 7921]\n",
      " [8100 8281 8464 8649 8836 9025 9216 9409 9604 9801]]\n",
      "506 ns ± 7.3 ns per loop (mean ± std. dev. of 7 runs, 1000000 loops each)\n"
     ]
    }
   ],
   "source": [
    "a = np.arange(100).reshape(10,10)\n",
    "print(a)\n",
    "b = np.arange(100).reshape(10,10)\n",
    "c = a * b\n",
    "print(c)\n",
    "%timeit a * b # takes 506 ns on my computer"
   ]
  },
  {
   "cell_type": "code",
   "execution_count": 22,
   "metadata": {},
   "outputs": [
    {
     "name": "stdout",
     "output_type": "stream",
     "text": [
      "[[   0    1    4    9   16   25   36   49   64   81]\n",
      " [ 100  121  144  169  196  225  256  289  324  361]\n",
      " [ 400  441  484  529  576  625  676  729  784  841]\n",
      " [ 900  961 1024 1089 1156 1225 1296 1369 1444 1521]\n",
      " [1600 1681 1764 1849 1936 2025 2116 2209 2304 2401]\n",
      " [2500 2601 2704 2809 2916 3025 3136 3249 3364 3481]\n",
      " [3600 3721 3844 3969 4096 4225 4356 4489 4624 4761]\n",
      " [4900 5041 5184 5329 5476 5625 5776 5929 6084 6241]\n",
      " [6400 6561 6724 6889 7056 7225 7396 7569 7744 7921]\n",
      " [8100 8281 8464 8649 8836 9025 9216 9409 9604 9801]]\n",
      "59.9 µs ± 8.82 µs per loop (mean ± std. dev. of 7 runs, 10000 loops each)\n"
     ]
    }
   ],
   "source": [
    "a = np.arange(100).reshape(10,10)\n",
    "b = np.arange(100).reshape(10,10)\n",
    "def product(_a, _b):\n",
    "    c = np.empty_like(a)\n",
    "    c.fill(np.nan)\n",
    "    for i in range(a.shape[0]):\n",
    "        for j in range(a.shape[1]):\n",
    "            c[i,j] = a[i,j] * b[i,j]\n",
    "    return c\n",
    "print(product(a, b))\n",
    "%timeit (product(a, b)) # oups, it took 55.3 us, i.e. it is 100x less efficient. \n",
    "        "
   ]
  },
  {
   "cell_type": "markdown",
   "metadata": {},
   "source": [
    "## array statistics"
   ]
  },
  {
   "cell_type": "code",
   "execution_count": 23,
   "metadata": {},
   "outputs": [
    {
     "name": "stdout",
     "output_type": "stream",
     "text": [
      "[ 0.75065892  0.12502243  0.42251598 ... -2.00595244  0.55904821\n",
      " -1.47067666]\n",
      "-0.0045636431396683715\n",
      "-0.0016310830472482\n",
      "-1.281959030672402\n",
      "1.2751712392628738\n",
      "-4.859335026393408\n",
      "4.198189313376785\n"
     ]
    }
   ],
   "source": [
    "a = np.random.standard_normal(100000)\n",
    "print(a)\n",
    "print(np.mean(a))\n",
    "print(np.median(a))\n",
    "print(np.percentile(a, 10))\n",
    "print(np.percentile(a, 90))\n",
    "print(np.min(a))\n",
    "print(np.max(a))"
   ]
  },
  {
   "cell_type": "markdown",
   "metadata": {},
   "source": [
    "## handling nans"
   ]
  },
  {
   "cell_type": "code",
   "execution_count": 25,
   "metadata": {},
   "outputs": [
    {
     "name": "stdout",
     "output_type": "stream",
     "text": [
      "[        nan -1.19691418  1.10303012 ... -1.23491007 -0.41305472\n",
      "  0.88582123]\n",
      "0.003055212035701853\n",
      "0.0015446656535000173\n",
      "-1.2756627622307042\n",
      "1.285543177372455\n",
      "-4.1770968567815006\n",
      "4.407470378346788\n",
      "(array([0]),)\n"
     ]
    }
   ],
   "source": [
    "a = np.random.standard_normal(100000)\n",
    "a[0] = np.nan # we add a nan to the array\n",
    "print(a)\n",
    "print(np.nanmean(a)) # robust-to-nan functions must be used to avoid nan results\n",
    "print(np.nanmedian(a))\n",
    "print(np.nanpercentile(a, 10))\n",
    "print(np.nanpercentile(a, 90))\n",
    "print(np.nanmin(a))\n",
    "print(np.nanmax(a))\n",
    "print(np.nonzero(np.isnan(a))) # return the indices of the nan values"
   ]
  },
  {
   "cell_type": "code",
   "execution_count": 26,
   "metadata": {},
   "outputs": [
    {
     "name": "stdout",
     "output_type": "stream",
     "text": [
      "[[0.96433778 0.74508461 0.53067636 0.05985    0.61245686]\n",
      " [0.14820722 0.24151829 0.1665332  0.70933736 0.07965677]\n",
      " [0.13549716 0.32321276 0.8651986  0.96817235 0.98112398]\n",
      " [0.22928722 0.97663041 0.47104822 0.94740042 0.88667837]\n",
      " [0.98664031 0.86098029 0.76145359 0.61817762 0.40497017]]\n",
      "[[nan nan nan  1. nan]\n",
      " [ 1.  1.  1. nan  1.]\n",
      " [ 1.  1. nan nan nan]\n",
      " [ 1. nan  1. nan nan]\n",
      " [nan nan nan nan  1.]]\n"
     ]
    }
   ],
   "source": [
    "# use data from one image to put nans in another image\n",
    "im1 = np.random.random((5,5))\n",
    "im2 = np.ones((5,5))\n",
    "# im1 and im2 must have the same shape\n",
    "im2[np.nonzero(im1 > 0.5)] = np.nan\n",
    "print(im1)\n",
    "print(im2)"
   ]
  },
  {
   "cell_type": "code",
   "execution_count": null,
   "metadata": {},
   "outputs": [],
   "source": []
  },
  {
   "cell_type": "code",
   "execution_count": null,
   "metadata": {},
   "outputs": [],
   "source": []
  }
 ],
 "metadata": {
  "kernelspec": {
   "display_name": "Python 3",
   "language": "python",
   "name": "python3"
  },
  "language_info": {
   "codemirror_mode": {
    "name": "ipython",
    "version": 3
   },
   "file_extension": ".py",
   "mimetype": "text/x-python",
   "name": "python",
   "nbconvert_exporter": "python",
   "pygments_lexer": "ipython3",
   "version": "3.7.5"
  }
 },
 "nbformat": 4,
 "nbformat_minor": 4
}
