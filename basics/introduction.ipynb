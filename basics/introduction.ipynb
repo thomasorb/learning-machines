{
 "cells": [
  {
   "cell_type": "markdown",
   "metadata": {},
   "source": [
    "# Python - Introduction"
   ]
  },
  {
   "cell_type": "markdown",
   "metadata": {},
   "source": [
    "Python est un langage de programmation **objet**, **multi-paradigme** et **multi-plateformes**. (wikipedia)"
   ]
  },
  {
   "cell_type": "markdown",
   "metadata": {},
   "source": [
    "## Paradigme\n",
    "source: wikipedia (https://fr.wikipedia.org/wiki/Paradigme_(programmation))\n",
    "\n",
    "\n",
    "- Programmation impérative: **BASIC, c, fortran**\n",
    "  - Programmation structurée (pas de goto)\n",
    "  - Programmation procédurale\n",
    "\n",
    "- Programmation orientée objet:  **c++, python etc.**\n",
    "  - Programmation orientée prototype\n",
    "  - Programmation orientée classe\n",
    "  - Programmation orientée composant\n",
    "\n",
    "- Programmation déclarative : **HTML, LaTeX**\n",
    "  - Programmation descriptive, à l'expressivité réduite (HTML, LaTeX...)\n",
    "  - Programmation fonctionnelle\n",
    "  - Programmation logique\n",
    "  - Programmation par contraintes\n",
    "  \n",
    "- Autres types\n",
    "  - Programmation événementielle\n",
    "  - Programmation séquentielle\n",
    "  - Programmation interruptible\n",
    "  - Programmation concurrente\n",
    "  - Programmation orientée aspect\n",
    "  - Programmation par contrat\n",
    "  - Programmation chimique\n",
    "  - Programmation orientée agent\n",
    "  - Programmation orientée concept\n",
    "  - Programmation orientée pile\n",
    "  - Programmation orientée principes\n",
    "  - Programmation orientée flux de données\n",
    "  - Programmation non-déterministe\n",
    "  - Programmation orientée sujet\n",
    "  - Programmation réactive\n",
    "  - Programmation synchrone\n",
    "  - Programmation par annotations\n",
    "  - Programmation par attributs\n",
    "  - Programmation sur flux\n",
    "  - Programmation par messages\n",
    "  - Programmation orientée processus  (programmation parallèle)\n",
    "  - Programmation récursive\n",
    "  - Programmation réflexive\n",
    "  - Programmation scalaire\n",
    "  - Programmation au niveau valeur\n",
    "  "
   ]
  },
  {
   "cell_type": "markdown",
   "metadata": {},
   "source": [
    "## Python est multi-paradigme\n",
    "\n",
    "Plusieurs façon de coder s'offrent à l'utilisateur: **programmation impérative** (genre script), **programmation orientée objet** (pour les logiciels et les librairies)"
   ]
  },
  {
   "cell_type": "markdown",
   "metadata": {},
   "source": [
    "### Programmation impérative\n",
    "\n",
    "le programme exécute une suite d'instructions. Les éléments typiques sont des variables de type relativement simple (int, float, string, tableau etc) et des fonctions. Les variables intéragissent entre elles par l'intermédiaire de fonctions qui prennent un certain nombre de variables en entrée et retournent un certain nombre de valeurs."
   ]
  },
  {
   "cell_type": "code",
   "execution_count": 1,
   "metadata": {},
   "outputs": [
    {
     "name": "stdout",
     "output_type": "stream",
     "text": [
      "DIVIDE a/b\n",
      "please enter a: 1\n",
      "please enter b: 2\n",
      "a/b =  0.5\n"
     ]
    }
   ],
   "source": [
    "# pas de {} comme en c ou de if; endif ... juste de l'indentation\n",
    "# les variables n'ont pas besoin d'être déclarées en avance\n",
    "\n",
    "def check_value(val): # définition d'une fonction\n",
    "    if float(val) == 0: # structure if\n",
    "        raise Exception('division by zero is not permitted') # comment 'lever' une exception\n",
    "    return val # retour de la fonction\n",
    "\n",
    "print 'DIVIDE a/b'\n",
    "a = raw_input('please enter a: ') # demande une input au clavier\n",
    "b = raw_input('please enter b: ')\n",
    "\n",
    "check_value(b)\n",
    "c = float(a) / float(b) # float(x) : tente de convertir x en un flottant, x peut être un int, un complex, un string\n",
    "print 'a/b = ', c"
   ]
  },
  {
   "cell_type": "markdown",
   "metadata": {},
   "source": [
    "### Programmation orientée objet\n",
    "\n",
    "Type de programmation plus abstrait faisant intervenir presque exclusivement des éléments de type plus complexe qu'un entier, un flottant etc. : des objets.\n",
    "\n",
    "(note: pour la suite, nous nous plaçons dans le cadre de l'analyse de données. Les objets ne se limitent pas, en général, au traitement de données. Les définitions données sont donc simplifiés - voir simplistes)\n",
    "\n",
    "Un objet est une abstraction, une structure, qui, notamment en analyse de données, **encapsule** un ensemble de données : ses **attributs**. Il permet de **manipuler ses attributs** en offrant des **méthodes** pour le faire. En théorie les attributs d'un objet ne doivent pas être manipulés de l'exterieur directement. \n",
    "\n",
    "Un objet est donc une boite noire dont l'un des objectif est généralement de garantir la sécurité des données qu'elle gère.\n",
    "\n",
    "Dans la programmation orientée objet, le programme est une suite d'**interactions** entre des **objets**\n",
    "\n",
    "La **définition générale** d'un objet (type des attributs, méthodes) se fait par l'intermédiaire d'une **classe**. C'est en quelque sorte son ADN. La classe est un type : deux objets peuvent avoir la même classe (le même type) mais pas les mêmes valeurs d'attributs. "
   ]
  },
  {
   "cell_type": "code",
   "execution_count": 1,
   "metadata": {},
   "outputs": [
    {
     "name": "stdout",
     "output_type": "stream",
     "text": [
      "DIVIDE a/b\n",
      "please enter a: 1\n",
      "1.0\n",
      "please enter b: 2\n",
      "a/b =  0.5\n"
     ]
    }
   ],
   "source": [
    "class Number: # définition la plus simple d'une classe\n",
    "    # une classe ressemble à une structure (struct en C)\n",
    "    # les fonctions d'une classe sont les méthodes\n",
    "    # les variable d'une classe sont ses attributs\n",
    "    # une classe est un plan, elle n'existe pas (sa taille en mémoire est nulle), \n",
    "    # aucun de ses attributs de pointe vers des données réelles tant qu'elle n'a \n",
    "    # pas été instanciée. (voir plus bas)\n",
    "    def __init__(self, val):  # définition d'une méthode spéciale '__': le constructeur\n",
    "        self.val = float(val) # self.val : définit un attribut de la classe\n",
    "        \n",
    "    def divide(self, div): # définit une méthode pour la classe 'divide'\n",
    "        div = float(div)\n",
    "        if div == 0: raise Exception('division by zero is not permitted')\n",
    "        return self.val / div\n",
    "    \n",
    "print 'DIVIDE a/b'\n",
    "a = raw_input('please enter a: ')\n",
    "a = Number(a) # crée un objet de type Number. a est une **instanciation** de Number \n",
    "              # avec une certaine valeur de ses attributs\n",
    "print a.val # imprime la valeur de l'attribut val de l'objet créé\n",
    "b = raw_input('please enter b: ')\n",
    "print 'a/b = ', a.divide(b) # appel la méthode divide de la classe Number        "
   ]
  },
  {
   "cell_type": "markdown",
   "metadata": {},
   "source": [
    "#### notion d'héritage\n",
    "\n",
    "Une classe peut **hériter** ses attributs et méthodes d'une autre classe et ajouter les sienne propre ou redéfinir celles-ci."
   ]
  },
  {
   "cell_type": "code",
   "execution_count": 2,
   "metadata": {},
   "outputs": [],
   "source": [
    "## todo"
   ]
  },
  {
   "cell_type": "markdown",
   "metadata": {},
   "source": [
    "### En python : **tout est objet**"
   ]
  },
  {
   "cell_type": "code",
   "execution_count": 23,
   "metadata": {},
   "outputs": [
    {
     "name": "stdout",
     "output_type": "stream",
     "text": [
      "<type 'float'>\n"
     ]
    }
   ],
   "source": [
    "a = 2.5\n",
    "print type(a) # type de l'objet"
   ]
  },
  {
   "cell_type": "code",
   "execution_count": 29,
   "metadata": {},
   "outputs": [],
   "source": [
    "a? #introspection"
   ]
  },
  {
   "cell_type": "code",
   "execution_count": 31,
   "metadata": {},
   "outputs": [],
   "source": [
    "check_value?? # introspection : imprime également le code source si possible"
   ]
  },
  {
   "cell_type": "code",
   "execution_count": 24,
   "metadata": {},
   "outputs": [
    {
     "name": "stdout",
     "output_type": "stream",
     "text": [
      "Help on float object:\n",
      "\n",
      "class float(object)\n",
      " |  float(x) -> floating point number\n",
      " |  \n",
      " |  Convert a string or number to a floating point number, if possible.\n",
      " |  \n",
      " |  Methods defined here:\n",
      " |  \n",
      " |  __abs__(...)\n",
      " |      x.__abs__() <==> abs(x)\n",
      " |  \n",
      " |  __add__(...)\n",
      " |      x.__add__(y) <==> x+y\n",
      " |  \n",
      " |  __coerce__(...)\n",
      " |      x.__coerce__(y) <==> coerce(x, y)\n",
      " |  \n",
      " |  __div__(...)\n",
      " |      x.__div__(y) <==> x/y\n",
      " |  \n",
      " |  __divmod__(...)\n",
      " |      x.__divmod__(y) <==> divmod(x, y)\n",
      " |  \n",
      " |  __eq__(...)\n",
      " |      x.__eq__(y) <==> x==y\n",
      " |  \n",
      " |  __float__(...)\n",
      " |      x.__float__() <==> float(x)\n",
      " |  \n",
      " |  __floordiv__(...)\n",
      " |      x.__floordiv__(y) <==> x//y\n",
      " |  \n",
      " |  __format__(...)\n",
      " |      float.__format__(format_spec) -> string\n",
      " |      \n",
      " |      Formats the float according to format_spec.\n",
      " |  \n",
      " |  __ge__(...)\n",
      " |      x.__ge__(y) <==> x>=y\n",
      " |  \n",
      " |  __getattribute__(...)\n",
      " |      x.__getattribute__('name') <==> x.name\n",
      " |  \n",
      " |  __getformat__(...)\n",
      " |      float.__getformat__(typestr) -> string\n",
      " |      \n",
      " |      You probably don't want to use this function.  It exists mainly to be\n",
      " |      used in Python's test suite.\n",
      " |      \n",
      " |      typestr must be 'double' or 'float'.  This function returns whichever of\n",
      " |      'unknown', 'IEEE, big-endian' or 'IEEE, little-endian' best describes the\n",
      " |      format of floating point numbers used by the C type named by typestr.\n",
      " |  \n",
      " |  __getnewargs__(...)\n",
      " |  \n",
      " |  __gt__(...)\n",
      " |      x.__gt__(y) <==> x>y\n",
      " |  \n",
      " |  __hash__(...)\n",
      " |      x.__hash__() <==> hash(x)\n",
      " |  \n",
      " |  __int__(...)\n",
      " |      x.__int__() <==> int(x)\n",
      " |  \n",
      " |  __le__(...)\n",
      " |      x.__le__(y) <==> x<=y\n",
      " |  \n",
      " |  __long__(...)\n",
      " |      x.__long__() <==> long(x)\n",
      " |  \n",
      " |  __lt__(...)\n",
      " |      x.__lt__(y) <==> x<y\n",
      " |  \n",
      " |  __mod__(...)\n",
      " |      x.__mod__(y) <==> x%y\n",
      " |  \n",
      " |  __mul__(...)\n",
      " |      x.__mul__(y) <==> x*y\n",
      " |  \n",
      " |  __ne__(...)\n",
      " |      x.__ne__(y) <==> x!=y\n",
      " |  \n",
      " |  __neg__(...)\n",
      " |      x.__neg__() <==> -x\n",
      " |  \n",
      " |  __nonzero__(...)\n",
      " |      x.__nonzero__() <==> x != 0\n",
      " |  \n",
      " |  __pos__(...)\n",
      " |      x.__pos__() <==> +x\n",
      " |  \n",
      " |  __pow__(...)\n",
      " |      x.__pow__(y[, z]) <==> pow(x, y[, z])\n",
      " |  \n",
      " |  __radd__(...)\n",
      " |      x.__radd__(y) <==> y+x\n",
      " |  \n",
      " |  __rdiv__(...)\n",
      " |      x.__rdiv__(y) <==> y/x\n",
      " |  \n",
      " |  __rdivmod__(...)\n",
      " |      x.__rdivmod__(y) <==> divmod(y, x)\n",
      " |  \n",
      " |  __repr__(...)\n",
      " |      x.__repr__() <==> repr(x)\n",
      " |  \n",
      " |  __rfloordiv__(...)\n",
      " |      x.__rfloordiv__(y) <==> y//x\n",
      " |  \n",
      " |  __rmod__(...)\n",
      " |      x.__rmod__(y) <==> y%x\n",
      " |  \n",
      " |  __rmul__(...)\n",
      " |      x.__rmul__(y) <==> y*x\n",
      " |  \n",
      " |  __rpow__(...)\n",
      " |      y.__rpow__(x[, z]) <==> pow(x, y[, z])\n",
      " |  \n",
      " |  __rsub__(...)\n",
      " |      x.__rsub__(y) <==> y-x\n",
      " |  \n",
      " |  __rtruediv__(...)\n",
      " |      x.__rtruediv__(y) <==> y/x\n",
      " |  \n",
      " |  __setformat__(...)\n",
      " |      float.__setformat__(typestr, fmt) -> None\n",
      " |      \n",
      " |      You probably don't want to use this function.  It exists mainly to be\n",
      " |      used in Python's test suite.\n",
      " |      \n",
      " |      typestr must be 'double' or 'float'.  fmt must be one of 'unknown',\n",
      " |      'IEEE, big-endian' or 'IEEE, little-endian', and in addition can only be\n",
      " |      one of the latter two if it appears to match the underlying C reality.\n",
      " |      \n",
      " |      Override the automatic determination of C-level floating point type.\n",
      " |      This affects how floats are converted to and from binary strings.\n",
      " |  \n",
      " |  __str__(...)\n",
      " |      x.__str__() <==> str(x)\n",
      " |  \n",
      " |  __sub__(...)\n",
      " |      x.__sub__(y) <==> x-y\n",
      " |  \n",
      " |  __truediv__(...)\n",
      " |      x.__truediv__(y) <==> x/y\n",
      " |  \n",
      " |  __trunc__(...)\n",
      " |      Return the Integral closest to x between 0 and x.\n",
      " |  \n",
      " |  as_integer_ratio(...)\n",
      " |      float.as_integer_ratio() -> (int, int)\n",
      " |      \n",
      " |      Return a pair of integers, whose ratio is exactly equal to the original\n",
      " |      float and with a positive denominator.\n",
      " |      Raise OverflowError on infinities and a ValueError on NaNs.\n",
      " |      \n",
      " |      >>> (10.0).as_integer_ratio()\n",
      " |      (10, 1)\n",
      " |      >>> (0.0).as_integer_ratio()\n",
      " |      (0, 1)\n",
      " |      >>> (-.25).as_integer_ratio()\n",
      " |      (-1, 4)\n",
      " |  \n",
      " |  conjugate(...)\n",
      " |      Return self, the complex conjugate of any float.\n",
      " |  \n",
      " |  fromhex(...)\n",
      " |      float.fromhex(string) -> float\n",
      " |      \n",
      " |      Create a floating-point number from a hexadecimal string.\n",
      " |      >>> float.fromhex('0x1.ffffp10')\n",
      " |      2047.984375\n",
      " |      >>> float.fromhex('-0x1p-1074')\n",
      " |      -4.9406564584124654e-324\n",
      " |  \n",
      " |  hex(...)\n",
      " |      float.hex() -> string\n",
      " |      \n",
      " |      Return a hexadecimal representation of a floating-point number.\n",
      " |      >>> (-0.1).hex()\n",
      " |      '-0x1.999999999999ap-4'\n",
      " |      >>> 3.14159.hex()\n",
      " |      '0x1.921f9f01b866ep+1'\n",
      " |  \n",
      " |  is_integer(...)\n",
      " |      Return True if the float is an integer.\n",
      " |  \n",
      " |  ----------------------------------------------------------------------\n",
      " |  Data descriptors defined here:\n",
      " |  \n",
      " |  imag\n",
      " |      the imaginary part of a complex number\n",
      " |  \n",
      " |  real\n",
      " |      the real part of a complex number\n",
      " |  \n",
      " |  ----------------------------------------------------------------------\n",
      " |  Data and other attributes defined here:\n",
      " |  \n",
      " |  __new__ = <built-in method __new__ of type object>\n",
      " |      T.__new__(S, ...) -> a new object with type S, a subtype of T\n",
      "\n"
     ]
    }
   ],
   "source": [
    "help(a) # aide complete sur l'objet"
   ]
  },
  {
   "cell_type": "code",
   "execution_count": 26,
   "metadata": {},
   "outputs": [
    {
     "name": "stdout",
     "output_type": "stream",
     "text": [
      "(5, 2)\n",
      "1.25\n",
      "1.25\n"
     ]
    }
   ],
   "source": [
    "print a.as_integer_ratio() # utilisation d'une méthode de l'objet : la preuve que le flottant n'est pas 'juste' un flottant.\n",
    "\n",
    "print a.__div__(2.) # utilisation d'une méthode 'spéciale' : __xxx__\n",
    "print a / 2 # même méthode appelée par une syntaxe différente et plus lisible"
   ]
  },
  {
   "cell_type": "code",
   "execution_count": null,
   "metadata": {},
   "outputs": [],
   "source": []
  }
 ],
 "metadata": {
  "kernelspec": {
   "display_name": "orb",
   "language": "python",
   "name": "orb"
  },
  "language_info": {
   "codemirror_mode": {
    "name": "ipython",
    "version": 2
   },
   "file_extension": ".py",
   "mimetype": "text/x-python",
   "name": "python",
   "nbconvert_exporter": "python",
   "pygments_lexer": "ipython2",
   "version": "2.7.15rc1"
  }
 },
 "nbformat": 4,
 "nbformat_minor": 2
}
