{
 "cells": [
  {
   "cell_type": "markdown",
   "metadata": {},
   "source": [
    "# Numpy"
   ]
  },
  {
   "cell_type": "code",
   "execution_count": 3,
   "metadata": {},
   "outputs": [],
   "source": [
    "import numpy as np # importe la librairies et l'associe au raccourci 'np'"
   ]
  },
  {
   "cell_type": "markdown",
   "metadata": {},
   "source": [
    "## créer un tableau"
   ]
  },
  {
   "cell_type": "code",
   "execution_count": 2,
   "metadata": {},
   "outputs": [
    {
     "name": "stdout",
     "output_type": "stream",
     "text": [
      "[1, 2, 5, 6, -8, 1]\n"
     ]
    }
   ],
   "source": [
    "# à partir d'une liste ou d'un tuple\n",
    "a = [1,2,5,6,-8,1]\n",
    "arr = np.array(a)\n",
    "print a"
   ]
  },
  {
   "cell_type": "code",
   "execution_count": 3,
   "metadata": {},
   "outputs": [
    {
     "name": "stdout",
     "output_type": "stream",
     "text": [
      "[0 1 2 3 4]\n",
      "[1 2 3 4 5 6 7 8 9]\n",
      "[ 1  3  5  7  9 11 13 15 17 19]\n",
      "[0.         0.11111111 0.22222222 0.33333333 0.44444444 0.55555556\n",
      " 0.66666667 0.77777778 0.88888889 1.        ]\n",
      "[0. 0. 0. 0. 0.]\n",
      "[1. 1. 1. 1. 1.]\n"
     ]
    }
   ],
   "source": [
    "# à partir d'un générateur\n",
    "print np.arange(5)\n",
    "print np.arange(1,10)\n",
    "print np.arange(1,20,2)\n",
    "print np.linspace(0,1,10)\n",
    "print np.zeros(5) # size 5, filled with zeroes\n",
    "print np.ones(5) # size 5, filled with ones"
   ]
  },
  {
   "cell_type": "markdown",
   "metadata": {},
   "source": [
    "## opérations sur les tableaux"
   ]
  },
  {
   "cell_type": "code",
   "execution_count": 4,
   "metadata": {},
   "outputs": [
    {
     "name": "stdout",
     "output_type": "stream",
     "text": [
      "[-5 -4 -3 -2 -1  0  1  2  3  4]\n",
      "[ 0  2  4  6  8 10 12 14 16 18]\n",
      "[-5 -3 -1  1  3  5  7  9 11 13]\n",
      "[1.00000000e+00 2.71828183e+00 7.38905610e+00 2.00855369e+01\n",
      " 5.45981500e+01 1.48413159e+02 4.03428793e+02 1.09663316e+03\n",
      " 2.98095799e+03 8.10308393e+03]\n"
     ]
    }
   ],
   "source": [
    "a = np.arange(10)\n",
    "print a - 5\n",
    "print a * 2\n",
    "print a * 2 - 5\n",
    "print np.exp(a)"
   ]
  },
  {
   "cell_type": "code",
   "execution_count": 5,
   "metadata": {},
   "outputs": [
    {
     "name": "stdout",
     "output_type": "stream",
     "text": [
      "[ 0  1  4  9 16 25 36 49 64 81]\n",
      "285\n"
     ]
    }
   ],
   "source": [
    "a = np.arange(10)\n",
    "b = np.arange(10)\n",
    "print a * b\n",
    "print a.dot(b)"
   ]
  },
  {
   "cell_type": "markdown",
   "metadata": {},
   "source": [
    "## indexing"
   ]
  },
  {
   "cell_type": "code",
   "execution_count": 6,
   "metadata": {},
   "outputs": [
    {
     "name": "stdout",
     "output_type": "stream",
     "text": [
      "[ 0  1  2  3  4  5  6  7  8  9 10 11]\n",
      "[9 8 7 6 5 4 3 2 1 0]\n",
      "[False False False False False False  True  True  True  True]\n",
      "[False False False False False False  True  True False False]\n",
      "[6 7]\n",
      "[1.         1.10517092 1.22140276 1.34985881 1.4918247  1.64872127\n",
      " 1.8221188  2.01375271 2.22554093 2.45960311]\n",
      "[1.8221188  2.01375271]\n"
     ]
    }
   ],
   "source": [
    "print np.arange(25)[0:12] # slicing\n",
    "print np.arange(10)[::-1] # revert array\n",
    "print np.arange(10) > 5 # a comparison operation returns an array of bool ...\n",
    "print (np.arange(10) > 5) * (np.arange(10) < 8) # ... which are very easy to manipulate\n",
    "# return a list of indexes which can be passed \n",
    "# to an array of same shape - but not the same array\n",
    "a = np.arange(10)\n",
    "indexes = np.nonzero((a > 5) * (a < 8))\n",
    "print a[indexes]\n",
    "\n",
    "a = np.exp(np.arange(10, dtype=float) / 10.)\n",
    "print a\n",
    "print a[indexes]"
   ]
  },
  {
   "cell_type": "markdown",
   "metadata": {},
   "source": [
    "## toujours penser en terme d'opérations matricielles, toujours réflechir avant de faire une boucle for"
   ]
  },
  {
   "cell_type": "code",
   "execution_count": 7,
   "metadata": {},
   "outputs": [
    {
     "name": "stdout",
     "output_type": "stream",
     "text": [
      "[[ 0  1  2  3  4  5  6  7  8  9]\n",
      " [10 11 12 13 14 15 16 17 18 19]\n",
      " [20 21 22 23 24 25 26 27 28 29]\n",
      " [30 31 32 33 34 35 36 37 38 39]\n",
      " [40 41 42 43 44 45 46 47 48 49]\n",
      " [50 51 52 53 54 55 56 57 58 59]\n",
      " [60 61 62 63 64 65 66 67 68 69]\n",
      " [70 71 72 73 74 75 76 77 78 79]\n",
      " [80 81 82 83 84 85 86 87 88 89]\n",
      " [90 91 92 93 94 95 96 97 98 99]]\n",
      "[[   0    1    4    9   16   25   36   49   64   81]\n",
      " [ 100  121  144  169  196  225  256  289  324  361]\n",
      " [ 400  441  484  529  576  625  676  729  784  841]\n",
      " [ 900  961 1024 1089 1156 1225 1296 1369 1444 1521]\n",
      " [1600 1681 1764 1849 1936 2025 2116 2209 2304 2401]\n",
      " [2500 2601 2704 2809 2916 3025 3136 3249 3364 3481]\n",
      " [3600 3721 3844 3969 4096 4225 4356 4489 4624 4761]\n",
      " [4900 5041 5184 5329 5476 5625 5776 5929 6084 6241]\n",
      " [6400 6561 6724 6889 7056 7225 7396 7569 7744 7921]\n",
      " [8100 8281 8464 8649 8836 9025 9216 9409 9604 9801]]\n",
      "The slowest run took 65.26 times longer than the fastest. This could mean that an intermediate result is being cached.\n",
      "1000000 loops, best of 3: 398 ns per loop\n"
     ]
    }
   ],
   "source": [
    "a = np.arange(100).reshape(10,10)\n",
    "print a\n",
    "b = np.arange(100).reshape(10,10)\n",
    "c = a * b\n",
    "print c\n",
    "% timeit a * b"
   ]
  },
  {
   "cell_type": "code",
   "execution_count": 8,
   "metadata": {},
   "outputs": [
    {
     "name": "stdout",
     "output_type": "stream",
     "text": [
      "[[   0    1    4    9   16   25   36   49   64   81]\n",
      " [ 100  121  144  169  196  225  256  289  324  361]\n",
      " [ 400  441  484  529  576  625  676  729  784  841]\n",
      " [ 900  961 1024 1089 1156 1225 1296 1369 1444 1521]\n",
      " [1600 1681 1764 1849 1936 2025 2116 2209 2304 2401]\n",
      " [2500 2601 2704 2809 2916 3025 3136 3249 3364 3481]\n",
      " [3600 3721 3844 3969 4096 4225 4356 4489 4624 4761]\n",
      " [4900 5041 5184 5329 5476 5625 5776 5929 6084 6241]\n",
      " [6400 6561 6724 6889 7056 7225 7396 7569 7744 7921]\n",
      " [8100 8281 8464 8649 8836 9025 9216 9409 9604 9801]]\n",
      "The slowest run took 5.84 times longer than the fastest. This could mean that an intermediate result is being cached.\n",
      "10000 loops, best of 3: 35.9 µs per loop\n"
     ]
    }
   ],
   "source": [
    "a = np.arange(100).reshape(10,10)\n",
    "b = np.arange(100).reshape(10,10)\n",
    "def product(_a, _b):\n",
    "    c = np.empty_like(a)\n",
    "    c.fill(np.nan)\n",
    "    for i in range(a.shape[0]):\n",
    "        for j in range(a.shape[1]):\n",
    "            c[i,j] = a[i,j] * b[i,j]\n",
    "    return c\n",
    "print product(a, b)\n",
    "% timeit product(a, b)\n",
    "        "
   ]
  },
  {
   "cell_type": "markdown",
   "metadata": {},
   "source": [
    "## statistique de base sur des tableaux"
   ]
  },
  {
   "cell_type": "code",
   "execution_count": 9,
   "metadata": {},
   "outputs": [
    {
     "name": "stdout",
     "output_type": "stream",
     "text": [
      "[ 1.78885961  0.60395676 -0.99390963 ... -1.03963774 -0.37843241\n",
      "  0.06534971]\n",
      "-0.0007632805910605719\n",
      "0.0011286787813911262\n",
      "-1.2866836070552246\n",
      "1.284217595793369\n",
      "-4.731309921070477\n",
      "4.583831983596217\n"
     ]
    }
   ],
   "source": [
    "a = np.random.standard_normal(100000)\n",
    "print a\n",
    "print np.mean(a)\n",
    "print np.median(a)\n",
    "print np.percentile(a, 10)\n",
    "print np.percentile(a, 90)\n",
    "print np.min(a)\n",
    "print np.max(a)"
   ]
  },
  {
   "cell_type": "markdown",
   "metadata": {},
   "source": [
    "## handling nans"
   ]
  },
  {
   "cell_type": "code",
   "execution_count": 11,
   "metadata": {},
   "outputs": [
    {
     "name": "stdout",
     "output_type": "stream",
     "text": [
      "[       nan 0.38363701 1.31550186 ... 0.74643327 0.25340006 0.808364  ]\n",
      "0.002603544139315832\n",
      "0.003168484923871338\n",
      "-1.2755181732513208\n",
      "1.284616411925892\n",
      "-4.025858509548022\n",
      "4.178655758697193\n",
      "(array([0]),)\n"
     ]
    }
   ],
   "source": [
    "a = np.random.standard_normal(100000)\n",
    "a[0] = np.nan # we add a nan to the array\n",
    "print a\n",
    "print np.nanmean(a) # special nan-proof functions must be used to avoid nan results\n",
    "print np.nanmedian(a)\n",
    "print np.nanpercentile(a, 10)\n",
    "print np.nanpercentile(a, 90)\n",
    "print np.nanmin(a)\n",
    "print np.nanmax(a)\n",
    "print np.nonzero(np.isnan(a)) # return the indices of the nans"
   ]
  },
  {
   "cell_type": "code",
   "execution_count": 9,
   "metadata": {},
   "outputs": [
    {
     "name": "stdout",
     "output_type": "stream",
     "text": [
      "[[0.9539377  0.97212807 0.06083446 0.28997821 0.77554367]\n",
      " [0.93435306 0.18604914 0.28222907 0.83049129 0.97708756]\n",
      " [0.48441822 0.5933064  0.58035757 0.67628766 0.63443095]\n",
      " [0.42741105 0.93122665 0.45326675 0.32035799 0.27942846]\n",
      " [0.21449871 0.88025833 0.56530788 0.00536085 0.2160128 ]]\n",
      "[[nan nan  1.  1. nan]\n",
      " [nan  1.  1. nan nan]\n",
      " [ 1. nan nan nan nan]\n",
      " [ 1. nan  1.  1.  1.]\n",
      " [ 1. nan nan  1.  1.]]\n"
     ]
    }
   ],
   "source": [
    "# use data from one image to put nans in another image\n",
    "im1 = np.random.random((5,5))\n",
    "im2 = np.ones((5,5))\n",
    "# im1 and im2 must have the same shape\n",
    "im2[np.nonzero(im1 > 0.5)] = np.nan\n",
    "print im1\n",
    "print im2"
   ]
  },
  {
   "cell_type": "code",
   "execution_count": null,
   "metadata": {},
   "outputs": [],
   "source": []
  }
 ],
 "metadata": {
  "kernelspec": {
   "display_name": "orb",
   "language": "python",
   "name": "orb"
  },
  "language_info": {
   "codemirror_mode": {
    "name": "ipython",
    "version": 2
   },
   "file_extension": ".py",
   "mimetype": "text/x-python",
   "name": "python",
   "nbconvert_exporter": "python",
   "pygments_lexer": "ipython2",
   "version": "2.7.14"
  }
 },
 "nbformat": 4,
 "nbformat_minor": 2
}
