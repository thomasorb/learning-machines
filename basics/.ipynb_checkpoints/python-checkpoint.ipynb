{
 "cells": [
  {
   "cell_type": "markdown",
   "metadata": {},
   "source": [
    "# Python - Introduction"
   ]
  },
  {
   "cell_type": "markdown",
   "metadata": {},
   "source": [
    "[Python](https://en.wikipedia.org/wiki/Python_(programming_language)) is an **interpreted**, **high-level**, **general-purpose** programming language. Created by Guido van Rossum and first released in 1991.\n",
    "It supports multiple [programming paradigms](https://en.wikipedia.org/wiki/Programming_paradigm) (including [procedural](https://en.wikipedia.org/wiki/Procedural_programming) and [object-oriented](https://en.wikipedia.org/wiki/Object-oriented_programming))\n",
    "([wikipedia](https://en.wikipedia.org/wiki/Python_(programming_language)))"
   ]
  },
  {
   "cell_type": "markdown",
   "metadata": {},
   "source": [
    "### ex: procedural programming"
   ]
  },
  {
   "cell_type": "code",
   "execution_count": 1,
   "metadata": {},
   "outputs": [
    {
     "name": "stdout",
     "output_type": "stream",
     "text": [
      "DIVIDE a/b\n"
     ]
    },
    {
     "name": "stdin",
     "output_type": "stream",
     "text": [
      "please enter a:  5\n",
      "please enter b:  0\n"
     ]
    },
    {
     "ename": "Exception",
     "evalue": "division by zero is not permitted",
     "output_type": "error",
     "traceback": [
      "\u001b[0;31m---------------------------------------------------------------------------\u001b[0m",
      "\u001b[0;31mException\u001b[0m                                 Traceback (most recent call last)",
      "\u001b[0;32m<ipython-input-1-8722988ed68f>\u001b[0m in \u001b[0;36m<module>\u001b[0;34m\u001b[0m\n\u001b[1;32m     10\u001b[0m \u001b[0ma\u001b[0m \u001b[0;34m=\u001b[0m \u001b[0minput\u001b[0m\u001b[0;34m(\u001b[0m\u001b[0;34m'please enter a: '\u001b[0m\u001b[0;34m)\u001b[0m \u001b[0;31m# keyboard input for a\u001b[0m\u001b[0;34m\u001b[0m\u001b[0;34m\u001b[0m\u001b[0m\n\u001b[1;32m     11\u001b[0m \u001b[0mb\u001b[0m \u001b[0;34m=\u001b[0m \u001b[0minput\u001b[0m\u001b[0;34m(\u001b[0m\u001b[0;34m'please enter b: '\u001b[0m\u001b[0;34m)\u001b[0m \u001b[0;31m# keyboard input for a\u001b[0m\u001b[0;34m\u001b[0m\u001b[0;34m\u001b[0m\u001b[0m\n\u001b[0;32m---> 12\u001b[0;31m \u001b[0mc\u001b[0m \u001b[0;34m=\u001b[0m \u001b[0mdivide\u001b[0m\u001b[0;34m(\u001b[0m\u001b[0ma\u001b[0m\u001b[0;34m,\u001b[0m \u001b[0mb\u001b[0m\u001b[0;34m)\u001b[0m\u001b[0;34m\u001b[0m\u001b[0;34m\u001b[0m\u001b[0m\n\u001b[0m\u001b[1;32m     13\u001b[0m  \u001b[0;31m# float(x) : tente de convertir x en un flottant, x peut être un int, un complex, un string\u001b[0m\u001b[0;34m\u001b[0m\u001b[0;34m\u001b[0m\u001b[0;34m\u001b[0m\u001b[0m\n\u001b[1;32m     14\u001b[0m \u001b[0mprint\u001b[0m\u001b[0;34m(\u001b[0m\u001b[0;34m'a/b = '\u001b[0m\u001b[0;34m,\u001b[0m \u001b[0mc\u001b[0m\u001b[0;34m)\u001b[0m\u001b[0;34m\u001b[0m\u001b[0;34m\u001b[0m\u001b[0m\n",
      "\u001b[0;32m<ipython-input-1-8722988ed68f>\u001b[0m in \u001b[0;36mdivide\u001b[0;34m(val_a, val_b)\u001b[0m\n\u001b[1;32m      4\u001b[0m \u001b[0;32mdef\u001b[0m \u001b[0mdivide\u001b[0m\u001b[0;34m(\u001b[0m\u001b[0mval_a\u001b[0m\u001b[0;34m,\u001b[0m \u001b[0mval_b\u001b[0m\u001b[0;34m)\u001b[0m\u001b[0;34m:\u001b[0m\u001b[0;34m\u001b[0m\u001b[0;34m\u001b[0m\u001b[0m\n\u001b[1;32m      5\u001b[0m     \u001b[0;32mif\u001b[0m \u001b[0mfloat\u001b[0m\u001b[0;34m(\u001b[0m\u001b[0mval_b\u001b[0m\u001b[0;34m)\u001b[0m \u001b[0;34m==\u001b[0m \u001b[0;36m0\u001b[0m\u001b[0;34m:\u001b[0m \u001b[0;31m# if structure\u001b[0m\u001b[0;34m\u001b[0m\u001b[0;34m\u001b[0m\u001b[0m\n\u001b[0;32m----> 6\u001b[0;31m         \u001b[0;32mraise\u001b[0m \u001b[0mException\u001b[0m\u001b[0;34m(\u001b[0m\u001b[0;34m'division by zero is not permitted'\u001b[0m\u001b[0;34m)\u001b[0m \u001b[0;31m# raise an exception if value is 0\u001b[0m\u001b[0;34m\u001b[0m\u001b[0;34m\u001b[0m\u001b[0m\n\u001b[0m\u001b[1;32m      7\u001b[0m     \u001b[0;32mreturn\u001b[0m \u001b[0mfloat\u001b[0m\u001b[0;34m(\u001b[0m\u001b[0ma\u001b[0m\u001b[0;34m)\u001b[0m \u001b[0;34m/\u001b[0m \u001b[0mfloat\u001b[0m\u001b[0;34m(\u001b[0m\u001b[0mb\u001b[0m\u001b[0;34m)\u001b[0m \u001b[0;31m# explicit conversion to floats in order to return a float\u001b[0m\u001b[0;34m\u001b[0m\u001b[0;34m\u001b[0m\u001b[0m\n\u001b[1;32m      8\u001b[0m \u001b[0;34m\u001b[0m\u001b[0m\n",
      "\u001b[0;31mException\u001b[0m: division by zero is not permitted"
     ]
    }
   ],
   "source": [
    "# procedure = routine, subroutines, functions etc.\n",
    "\n",
    "\n",
    "def divide(val_a, val_b):\n",
    "    if float(val_b) == 0: # if structure\n",
    "        raise Exception('division by zero is not permitted') # raise an exception if value is 0\n",
    "    return float(a) / float(b) # explicit conversion to floats in order to return a float\n",
    "\n",
    "print('DIVIDE a/b')\n",
    "a = input('please enter a: ') # keyboard input for a\n",
    "b = input('please enter b: ') # keyboard input for a\n",
    "c = divide(a, b)\n",
    " # float(x) : tente de convertir x en un flottant, x peut être un int, un complex, un string\n",
    "print('a/b = ', c)"
   ]
  },
  {
   "cell_type": "markdown",
   "metadata": {},
   "source": [
    "## Object-oriented programming\n",
    "\n",
    "More abstract programming way. We do not manipulate only data but **objects**.\n",
    "\n",
    "In data analysis, an object is a structure which encapsulates data (**attributes**) and data manipulation routines (**methods**)\n",
    "\n",
    "`object = attributes + methods`"
   ]
  },
  {
   "cell_type": "markdown",
   "metadata": {},
   "source": [
    "#### object (class) definition\n",
    "\n",
    "An object must be defined : which attributes will be stored into it? which methods will help handle this data?"
   ]
  },
  {
   "cell_type": "code",
   "execution_count": 2,
   "metadata": {},
   "outputs": [],
   "source": [
    "class Number(object): # this is the definition of the class, its architecture\n",
    "    def __init__(self, val):  # constructor (special method)\n",
    "        self.data = float(val) # ̀self.a` is an attribute of Number which will take value `val̀\n",
    "        \n",
    "    def divide(self, div): # définit une méthode pour la classe 'divide'\n",
    "        div = float(div)\n",
    "        if div == 0: raise Exception('division by zero is not permitted')\n",
    "        return self.data / div\n",
    "    \n",
    "    def set_data(self, val):\n",
    "        self.data = float(val)\n",
    "        \n",
    "    def get_data(self):\n",
    "        return self.data"
   ]
  },
  {
   "cell_type": "markdown",
   "metadata": {},
   "source": [
    "#### class instanciation\n",
    "\n",
    "Now that we have defined a class we can put real data into it"
   ]
  },
  {
   "cell_type": "code",
   "execution_count": 3,
   "metadata": {},
   "outputs": [
    {
     "name": "stdout",
     "output_type": "stream",
     "text": [
      "25.0\n",
      "<bound method Number.get_data of <__main__.Number object at 0x7f2f142fa150>>\n",
      "25.0\n",
      "<bound method Number.divide of <__main__.Number object at 0x7f2f142fa150>>\n",
      "5.0\n",
      "7.0\n",
      "<bound method Number.get_data of <__main__.Number object at 0x7f2f142fa150>>\n",
      "1.4\n"
     ]
    }
   ],
   "source": [
    "a = Number(25)\n",
    "print(a.data)\n",
    "print(a.get_data)\n",
    "print(a.get_data())\n",
    "print(a.divide)\n",
    "print(a.divide(5))\n",
    "a.set_data(7)\n",
    "print(a.data)\n",
    "print(a.get_data)\n",
    "print(a.divide(5))"
   ]
  },
  {
   "cell_type": "code",
   "execution_count": 4,
   "metadata": {},
   "outputs": [
    {
     "name": "stdout",
     "output_type": "stream",
     "text": [
      "DIVIDE a/b\n"
     ]
    },
    {
     "name": "stdin",
     "output_type": "stream",
     "text": [
      "please enter a:  25\n"
     ]
    },
    {
     "ename": "AttributeError",
     "evalue": "'str' object has no attribute 'divide'",
     "output_type": "error",
     "traceback": [
      "\u001b[0;31m---------------------------------------------------------------------------\u001b[0m",
      "\u001b[0;31mAttributeError\u001b[0m                            Traceback (most recent call last)",
      "\u001b[0;32m<ipython-input-4-de5fa11d42b5>\u001b[0m in \u001b[0;36m<module>\u001b[0;34m\u001b[0m\n\u001b[1;32m      1\u001b[0m \u001b[0mprint\u001b[0m\u001b[0;34m(\u001b[0m\u001b[0;34m'DIVIDE a/b'\u001b[0m\u001b[0;34m)\u001b[0m\u001b[0;34m\u001b[0m\u001b[0;34m\u001b[0m\u001b[0m\n\u001b[1;32m      2\u001b[0m \u001b[0ma\u001b[0m \u001b[0;34m=\u001b[0m \u001b[0minput\u001b[0m\u001b[0;34m(\u001b[0m\u001b[0;34m'please enter a: '\u001b[0m\u001b[0;34m)\u001b[0m \u001b[0;31m# a is not a Number object (in fact is is a string: `str̀)\u001b[0m\u001b[0;34m\u001b[0m\u001b[0;34m\u001b[0m\u001b[0m\n\u001b[0;32m----> 3\u001b[0;31m \u001b[0ma\u001b[0m\u001b[0;34m.\u001b[0m\u001b[0mdivide\u001b[0m\u001b[0;34m(\u001b[0m\u001b[0;36m5\u001b[0m\u001b[0;34m)\u001b[0m \u001b[0;31m# oups !\u001b[0m\u001b[0;34m\u001b[0m\u001b[0;34m\u001b[0m\u001b[0m\n\u001b[0m",
      "\u001b[0;31mAttributeError\u001b[0m: 'str' object has no attribute 'divide'"
     ]
    }
   ],
   "source": [
    "print('DIVIDE a/b')\n",
    "a = input('please enter a: ') # a is not a Number object (in fact is is a string: `str̀)\n",
    "a.divide(5) # oups !\n"
   ]
  },
  {
   "cell_type": "code",
   "execution_count": 5,
   "metadata": {},
   "outputs": [
    {
     "name": "stdout",
     "output_type": "stream",
     "text": [
      "DIVIDE a/b\n"
     ]
    },
    {
     "name": "stdin",
     "output_type": "stream",
     "text": [
      "please enter a:  25\n",
      "please enter b:  5\n"
     ]
    },
    {
     "name": "stdout",
     "output_type": "stream",
     "text": [
      "a/b =  5.0\n"
     ]
    }
   ],
   "source": [
    "print('DIVIDE a/b')\n",
    "a = input('please enter a: ') # a is not a Number object\n",
    "a = Number(a) # a is now a Number object\n",
    "b = input('please enter b: ')\n",
    "print('a/b = ', a.divide(b)) # we can use its divide method"
   ]
  },
  {
   "cell_type": "markdown",
   "metadata": {},
   "source": [
    "### heritage\n",
    "\n",
    "A class may inherit the arrtibutes and methods of another class (its parent)"
   ]
  },
  {
   "cell_type": "code",
   "execution_count": 6,
   "metadata": {},
   "outputs": [],
   "source": [
    "import numpy as np\n",
    "\n",
    "class VarNumber(Number): # VarNumber will inherit all methods and attributes of Number\n",
    "    \"\"\"Define an uncertain number ;)\"\"\"\n",
    "    def __init__(self, val, err): # we can rewrite the constructor\n",
    "        \n",
    "        self.data = float(val)\n",
    "        self.err = float(err) # an uncertainty is now associated to the data\n",
    "        \n",
    "    def divide_with_uncertainty(self, div):\n",
    "        \"\"\"return a the result of a division with its uncertainty\"\"\"\n",
    "        return self.divide(div), self.err / abs(div)\n",
    "    \n",
    "    def divide_with_object(self, obj):\n",
    "        \"\"\"return a VarNumber which is the result of self divided by obj. error propagation is taken care of.\"\"\"\n",
    "        if not isinstance(obj, VarNumber):\n",
    "            raise TypeError('obj must ba a VarNumber instance')\n",
    "        result = self.data / obj.data\n",
    "        result_err = np.sqrt((self.err / abs(obj.data))**2 + (obj.err / abs(obj.data))**2)\n",
    "        return VarNumber(result, result_err)\n",
    "            "
   ]
  },
  {
   "cell_type": "code",
   "execution_count": 7,
   "metadata": {},
   "outputs": [
    {
     "name": "stdout",
     "output_type": "stream",
     "text": [
      "1.0\n",
      "(1.0, 0.2)\n",
      "1.0 0.28284271247461906\n"
     ]
    }
   ],
   "source": [
    "avar = VarNumber(5,1)\n",
    "print(avar.divide(5))\n",
    "print(avar.divide_with_uncertainty(5))\n",
    "bvar = VarNumber(5,1)\n",
    "cvar = avar.divide_with_object(bvar)\n",
    "print(cvar.data, cvar.err)"
   ]
  },
  {
   "cell_type": "markdown",
   "metadata": {},
   "source": [
    "## In Python everything is an object"
   ]
  },
  {
   "cell_type": "code",
   "execution_count": 8,
   "metadata": {},
   "outputs": [
    {
     "data": {
      "text/plain": [
       "float"
      ]
     },
     "execution_count": 8,
     "metadata": {},
     "output_type": "execute_result"
    }
   ],
   "source": [
    "a = 2.5\n",
    "type(a) # object type"
   ]
  },
  {
   "cell_type": "code",
   "execution_count": 9,
   "metadata": {},
   "outputs": [
    {
     "data": {
      "text/plain": [
       "\u001b[0;31mType:\u001b[0m        float\n",
       "\u001b[0;31mString form:\u001b[0m 2.5\n",
       "\u001b[0;31mDocstring:\u001b[0m   Convert a string or number to a floating point number, if possible.\n"
      ]
     },
     "metadata": {},
     "output_type": "display_data"
    }
   ],
   "source": [
    "#introspection\n",
    "?a "
   ]
  },
  {
   "cell_type": "code",
   "execution_count": 10,
   "metadata": {},
   "outputs": [
    {
     "data": {
      "text/plain": [
       "\u001b[0;31mInit signature:\u001b[0m \u001b[0mVarNumber\u001b[0m\u001b[0;34m(\u001b[0m\u001b[0mval\u001b[0m\u001b[0;34m,\u001b[0m \u001b[0merr\u001b[0m\u001b[0;34m)\u001b[0m\u001b[0;34m\u001b[0m\u001b[0;34m\u001b[0m\u001b[0m\n",
       "\u001b[0;31mDocstring:\u001b[0m      Define an uncertain number ;)\n",
       "\u001b[0;31mType:\u001b[0m           type\n",
       "\u001b[0;31mSubclasses:\u001b[0m     \n"
      ]
     },
     "metadata": {},
     "output_type": "display_data"
    }
   ],
   "source": [
    "??VarNumber"
   ]
  },
  {
   "cell_type": "code",
   "execution_count": 11,
   "metadata": {},
   "outputs": [
    {
     "name": "stdout",
     "output_type": "stream",
     "text": [
      "Help on float object:\n",
      "\n",
      "class float(object)\n",
      " |  float(x=0, /)\n",
      " |  \n",
      " |  Convert a string or number to a floating point number, if possible.\n",
      " |  \n",
      " |  Methods defined here:\n",
      " |  \n",
      " |  __abs__(self, /)\n",
      " |      abs(self)\n",
      " |  \n",
      " |  __add__(self, value, /)\n",
      " |      Return self+value.\n",
      " |  \n",
      " |  __bool__(self, /)\n",
      " |      self != 0\n",
      " |  \n",
      " |  __divmod__(self, value, /)\n",
      " |      Return divmod(self, value).\n",
      " |  \n",
      " |  __eq__(self, value, /)\n",
      " |      Return self==value.\n",
      " |  \n",
      " |  __float__(self, /)\n",
      " |      float(self)\n",
      " |  \n",
      " |  __floordiv__(self, value, /)\n",
      " |      Return self//value.\n",
      " |  \n",
      " |  __format__(self, format_spec, /)\n",
      " |      Formats the float according to format_spec.\n",
      " |  \n",
      " |  __ge__(self, value, /)\n",
      " |      Return self>=value.\n",
      " |  \n",
      " |  __getattribute__(self, name, /)\n",
      " |      Return getattr(self, name).\n",
      " |  \n",
      " |  __getnewargs__(self, /)\n",
      " |  \n",
      " |  __gt__(self, value, /)\n",
      " |      Return self>value.\n",
      " |  \n",
      " |  __hash__(self, /)\n",
      " |      Return hash(self).\n",
      " |  \n",
      " |  __int__(self, /)\n",
      " |      int(self)\n",
      " |  \n",
      " |  __le__(self, value, /)\n",
      " |      Return self<=value.\n",
      " |  \n",
      " |  __lt__(self, value, /)\n",
      " |      Return self<value.\n",
      " |  \n",
      " |  __mod__(self, value, /)\n",
      " |      Return self%value.\n",
      " |  \n",
      " |  __mul__(self, value, /)\n",
      " |      Return self*value.\n",
      " |  \n",
      " |  __ne__(self, value, /)\n",
      " |      Return self!=value.\n",
      " |  \n",
      " |  __neg__(self, /)\n",
      " |      -self\n",
      " |  \n",
      " |  __pos__(self, /)\n",
      " |      +self\n",
      " |  \n",
      " |  __pow__(self, value, mod=None, /)\n",
      " |      Return pow(self, value, mod).\n",
      " |  \n",
      " |  __radd__(self, value, /)\n",
      " |      Return value+self.\n",
      " |  \n",
      " |  __rdivmod__(self, value, /)\n",
      " |      Return divmod(value, self).\n",
      " |  \n",
      " |  __repr__(self, /)\n",
      " |      Return repr(self).\n",
      " |  \n",
      " |  __rfloordiv__(self, value, /)\n",
      " |      Return value//self.\n",
      " |  \n",
      " |  __rmod__(self, value, /)\n",
      " |      Return value%self.\n",
      " |  \n",
      " |  __rmul__(self, value, /)\n",
      " |      Return value*self.\n",
      " |  \n",
      " |  __round__(self, ndigits=None, /)\n",
      " |      Return the Integral closest to x, rounding half toward even.\n",
      " |      \n",
      " |      When an argument is passed, work like built-in round(x, ndigits).\n",
      " |  \n",
      " |  __rpow__(self, value, mod=None, /)\n",
      " |      Return pow(value, self, mod).\n",
      " |  \n",
      " |  __rsub__(self, value, /)\n",
      " |      Return value-self.\n",
      " |  \n",
      " |  __rtruediv__(self, value, /)\n",
      " |      Return value/self.\n",
      " |  \n",
      " |  __str__(self, /)\n",
      " |      Return str(self).\n",
      " |  \n",
      " |  __sub__(self, value, /)\n",
      " |      Return self-value.\n",
      " |  \n",
      " |  __truediv__(self, value, /)\n",
      " |      Return self/value.\n",
      " |  \n",
      " |  __trunc__(self, /)\n",
      " |      Return the Integral closest to x between 0 and x.\n",
      " |  \n",
      " |  as_integer_ratio(self, /)\n",
      " |      Return integer ratio.\n",
      " |      \n",
      " |      Return a pair of integers, whose ratio is exactly equal to the original float\n",
      " |      and with a positive denominator.\n",
      " |      \n",
      " |      Raise OverflowError on infinities and a ValueError on NaNs.\n",
      " |      \n",
      " |      >>> (10.0).as_integer_ratio()\n",
      " |      (10, 1)\n",
      " |      >>> (0.0).as_integer_ratio()\n",
      " |      (0, 1)\n",
      " |      >>> (-.25).as_integer_ratio()\n",
      " |      (-1, 4)\n",
      " |  \n",
      " |  conjugate(self, /)\n",
      " |      Return self, the complex conjugate of any float.\n",
      " |  \n",
      " |  hex(self, /)\n",
      " |      Return a hexadecimal representation of a floating-point number.\n",
      " |      \n",
      " |      >>> (-0.1).hex()\n",
      " |      '-0x1.999999999999ap-4'\n",
      " |      >>> 3.14159.hex()\n",
      " |      '0x1.921f9f01b866ep+1'\n",
      " |  \n",
      " |  is_integer(self, /)\n",
      " |      Return True if the float is an integer.\n",
      " |  \n",
      " |  ----------------------------------------------------------------------\n",
      " |  Class methods defined here:\n",
      " |  \n",
      " |  __getformat__(typestr, /) from builtins.type\n",
      " |      You probably don't want to use this function.\n",
      " |      \n",
      " |        typestr\n",
      " |          Must be 'double' or 'float'.\n",
      " |      \n",
      " |      It exists mainly to be used in Python's test suite.\n",
      " |      \n",
      " |      This function returns whichever of 'unknown', 'IEEE, big-endian' or 'IEEE,\n",
      " |      little-endian' best describes the format of floating point numbers used by the\n",
      " |      C type named by typestr.\n",
      " |  \n",
      " |  __set_format__(typestr, fmt, /) from builtins.type\n",
      " |      You probably don't want to use this function.\n",
      " |      \n",
      " |        typestr\n",
      " |          Must be 'double' or 'float'.\n",
      " |        fmt\n",
      " |          Must be one of 'unknown', 'IEEE, big-endian' or 'IEEE, little-endian',\n",
      " |          and in addition can only be one of the latter two if it appears to\n",
      " |          match the underlying C reality.\n",
      " |      \n",
      " |      It exists mainly to be used in Python's test suite.\n",
      " |      \n",
      " |      Override the automatic determination of C-level floating point type.\n",
      " |      This affects how floats are converted to and from binary strings.\n",
      " |  \n",
      " |  fromhex(string, /) from builtins.type\n",
      " |      Create a floating-point number from a hexadecimal string.\n",
      " |      \n",
      " |      >>> float.fromhex('0x1.ffffp10')\n",
      " |      2047.984375\n",
      " |      >>> float.fromhex('-0x1p-1074')\n",
      " |      -5e-324\n",
      " |  \n",
      " |  ----------------------------------------------------------------------\n",
      " |  Static methods defined here:\n",
      " |  \n",
      " |  __new__(*args, **kwargs) from builtins.type\n",
      " |      Create and return a new object.  See help(type) for accurate signature.\n",
      " |  \n",
      " |  ----------------------------------------------------------------------\n",
      " |  Data descriptors defined here:\n",
      " |  \n",
      " |  imag\n",
      " |      the imaginary part of a complex number\n",
      " |  \n",
      " |  real\n",
      " |      the real part of a complex number\n",
      "\n"
     ]
    }
   ],
   "source": [
    "help(a) # complete help on an object"
   ]
  },
  {
   "cell_type": "code",
   "execution_count": 12,
   "metadata": {},
   "outputs": [
    {
     "name": "stdout",
     "output_type": "stream",
     "text": [
      "(5, 2)\n",
      "5.0\n",
      "5.0\n"
     ]
    }
   ],
   "source": [
    "print(a.as_integer_ratio()) # using one method of a float object\n",
    "print(a.__mul__(2.)) # special method __mul__ (multiply) which can be called with an easier syntax below\n",
    "print(a * 2) # same method as above but cleaner syntax"
   ]
  },
  {
   "cell_type": "markdown",
   "metadata": {},
   "source": [
    "## import/export"
   ]
  },
  {
   "cell_type": "code",
   "execution_count": 13,
   "metadata": {},
   "outputs": [
    {
     "data": {
      "text/plain": [
       "module"
      ]
     },
     "execution_count": 13,
     "metadata": {},
     "output_type": "execute_result"
    }
   ],
   "source": [
    "# a library (module) is also an object\n",
    "import numpy as np\n",
    "type(np)"
   ]
  },
  {
   "cell_type": "code",
   "execution_count": 14,
   "metadata": {},
   "outputs": [
    {
     "data": {
      "text/plain": [
       "\u001b[0;31mType:\u001b[0m        module\n",
       "\u001b[0;31mString form:\u001b[0m <module 'numpy' from '/home/thomas/miniconda2/envs/learn/lib/python3.7/site-packages/numpy/__init__.py'>\n",
       "\u001b[0;31mFile:\u001b[0m        ~/miniconda2/envs/learn/lib/python3.7/site-packages/numpy/__init__.py\n",
       "\u001b[0;31mDocstring:\u001b[0m  \n",
       "NumPy\n",
       "=====\n",
       "\n",
       "Provides\n",
       "  1. An array object of arbitrary homogeneous items\n",
       "  2. Fast mathematical operations over arrays\n",
       "  3. Linear Algebra, Fourier Transforms, Random Number Generation\n",
       "\n",
       "How to use the documentation\n",
       "----------------------------\n",
       "Documentation is available in two forms: docstrings provided\n",
       "with the code, and a loose standing reference guide, available from\n",
       "`the NumPy homepage <https://www.scipy.org>`_.\n",
       "\n",
       "We recommend exploring the docstrings using\n",
       "`IPython <https://ipython.org>`_, an advanced Python shell with\n",
       "TAB-completion and introspection capabilities.  See below for further\n",
       "instructions.\n",
       "\n",
       "The docstring examples assume that `numpy` has been imported as `np`::\n",
       "\n",
       "  >>> import numpy as np\n",
       "\n",
       "Code snippets are indicated by three greater-than signs::\n",
       "\n",
       "  >>> x = 42\n",
       "  >>> x = x + 1\n",
       "\n",
       "Use the built-in ``help`` function to view a function's docstring::\n",
       "\n",
       "  >>> help(np.sort)\n",
       "  ... # doctest: +SKIP\n",
       "\n",
       "For some objects, ``np.info(obj)`` may provide additional help.  This is\n",
       "particularly true if you see the line \"Help on ufunc object:\" at the top\n",
       "of the help() page.  Ufuncs are implemented in C, not Python, for speed.\n",
       "The native Python help() does not know how to view their help, but our\n",
       "np.info() function does.\n",
       "\n",
       "To search for documents containing a keyword, do::\n",
       "\n",
       "  >>> np.lookfor('keyword')\n",
       "  ... # doctest: +SKIP\n",
       "\n",
       "General-purpose documents like a glossary and help on the basic concepts\n",
       "of numpy are available under the ``doc`` sub-module::\n",
       "\n",
       "  >>> from numpy import doc\n",
       "  >>> help(doc)\n",
       "  ... # doctest: +SKIP\n",
       "\n",
       "Available subpackages\n",
       "---------------------\n",
       "doc\n",
       "    Topical documentation on broadcasting, indexing, etc.\n",
       "lib\n",
       "    Basic functions used by several sub-packages.\n",
       "random\n",
       "    Core Random Tools\n",
       "linalg\n",
       "    Core Linear Algebra Tools\n",
       "fft\n",
       "    Core FFT routines\n",
       "polynomial\n",
       "    Polynomial tools\n",
       "testing\n",
       "    NumPy testing tools\n",
       "f2py\n",
       "    Fortran to Python Interface Generator.\n",
       "distutils\n",
       "    Enhancements to distutils with support for\n",
       "    Fortran compilers support and more.\n",
       "\n",
       "Utilities\n",
       "---------\n",
       "test\n",
       "    Run numpy unittests\n",
       "show_config\n",
       "    Show numpy build configuration\n",
       "dual\n",
       "    Overwrite certain functions with high-performance Scipy tools\n",
       "matlib\n",
       "    Make everything matrices.\n",
       "__version__\n",
       "    NumPy version string\n",
       "\n",
       "Viewing documentation using IPython\n",
       "-----------------------------------\n",
       "Start IPython with the NumPy profile (``ipython -p numpy``), which will\n",
       "import `numpy` under the alias `np`.  Then, use the ``cpaste`` command to\n",
       "paste examples into the shell.  To see which functions are available in\n",
       "`numpy`, type ``np.<TAB>`` (where ``<TAB>`` refers to the TAB key), or use\n",
       "``np.*cos*?<ENTER>`` (where ``<ENTER>`` refers to the ENTER key) to narrow\n",
       "down the list.  To view the docstring for a function, use\n",
       "``np.cos?<ENTER>`` (to view the docstring) and ``np.cos??<ENTER>`` (to view\n",
       "the source code).\n",
       "\n",
       "Copies vs. in-place operation\n",
       "-----------------------------\n",
       "Most of the functions in `numpy` return a copy of the array argument\n",
       "(e.g., `np.sort`).  In-place versions of these functions are often\n",
       "available as array methods, i.e. ``x = np.array([1,2,3]); x.sort()``.\n",
       "Exceptions to this rule are documented.\n"
      ]
     },
     "metadata": {},
     "output_type": "display_data"
    }
   ],
   "source": [
    "?np"
   ]
  },
  {
   "cell_type": "code",
   "execution_count": 15,
   "metadata": {},
   "outputs": [
    {
     "data": {
      "text/plain": [
       "\u001b[0;31mDocstring:\u001b[0m\n",
       "array(object, dtype=None, copy=True, order='K', subok=False, ndmin=0)\n",
       "\n",
       "Create an array.\n",
       "\n",
       "Parameters\n",
       "----------\n",
       "object : array_like\n",
       "    An array, any object exposing the array interface, an object whose\n",
       "    __array__ method returns an array, or any (nested) sequence.\n",
       "dtype : data-type, optional\n",
       "    The desired data-type for the array.  If not given, then the type will\n",
       "    be determined as the minimum type required to hold the objects in the\n",
       "    sequence.  This argument can only be used to 'upcast' the array.  For\n",
       "    downcasting, use the .astype(t) method.\n",
       "copy : bool, optional\n",
       "    If true (default), then the object is copied.  Otherwise, a copy will\n",
       "    only be made if __array__ returns a copy, if obj is a nested sequence,\n",
       "    or if a copy is needed to satisfy any of the other requirements\n",
       "    (`dtype`, `order`, etc.).\n",
       "order : {'K', 'A', 'C', 'F'}, optional\n",
       "    Specify the memory layout of the array. If object is not an array, the\n",
       "    newly created array will be in C order (row major) unless 'F' is\n",
       "    specified, in which case it will be in Fortran order (column major).\n",
       "    If object is an array the following holds.\n",
       "\n",
       "    ===== ========= ===================================================\n",
       "    order  no copy                     copy=True\n",
       "    ===== ========= ===================================================\n",
       "    'K'   unchanged F & C order preserved, otherwise most similar order\n",
       "    'A'   unchanged F order if input is F and not C, otherwise C order\n",
       "    'C'   C order   C order\n",
       "    'F'   F order   F order\n",
       "    ===== ========= ===================================================\n",
       "\n",
       "    When ``copy=False`` and a copy is made for other reasons, the result is\n",
       "    the same as if ``copy=True``, with some exceptions for `A`, see the\n",
       "    Notes section. The default order is 'K'.\n",
       "subok : bool, optional\n",
       "    If True, then sub-classes will be passed-through, otherwise\n",
       "    the returned array will be forced to be a base-class array (default).\n",
       "ndmin : int, optional\n",
       "    Specifies the minimum number of dimensions that the resulting\n",
       "    array should have.  Ones will be pre-pended to the shape as\n",
       "    needed to meet this requirement.\n",
       "\n",
       "Returns\n",
       "-------\n",
       "out : ndarray\n",
       "    An array object satisfying the specified requirements.\n",
       "\n",
       "See Also\n",
       "--------\n",
       "empty_like : Return an empty array with shape and type of input.\n",
       "ones_like : Return an array of ones with shape and type of input.\n",
       "zeros_like : Return an array of zeros with shape and type of input.\n",
       "full_like : Return a new array with shape of input filled with value.\n",
       "empty : Return a new uninitialized array.\n",
       "ones : Return a new array setting values to one.\n",
       "zeros : Return a new array setting values to zero.\n",
       "full : Return a new array of given shape filled with value.\n",
       "\n",
       "\n",
       "Notes\n",
       "-----\n",
       "When order is 'A' and `object` is an array in neither 'C' nor 'F' order,\n",
       "and a copy is forced by a change in dtype, then the order of the result is\n",
       "not necessarily 'C' as expected. This is likely a bug.\n",
       "\n",
       "Examples\n",
       "--------\n",
       ">>> np.array([1, 2, 3])\n",
       "array([1, 2, 3])\n",
       "\n",
       "Upcasting:\n",
       "\n",
       ">>> np.array([1, 2, 3.0])\n",
       "array([ 1.,  2.,  3.])\n",
       "\n",
       "More than one dimension:\n",
       "\n",
       ">>> np.array([[1, 2], [3, 4]])\n",
       "array([[1, 2],\n",
       "       [3, 4]])\n",
       "\n",
       "Minimum dimensions 2:\n",
       "\n",
       ">>> np.array([1, 2, 3], ndmin=2)\n",
       "array([[1, 2, 3]])\n",
       "\n",
       "Type provided:\n",
       "\n",
       ">>> np.array([1, 2, 3], dtype=complex)\n",
       "array([ 1.+0.j,  2.+0.j,  3.+0.j])\n",
       "\n",
       "Data-type consisting of more than one element:\n",
       "\n",
       ">>> x = np.array([(1,2),(3,4)],dtype=[('a','<i4'),('b','<i4')])\n",
       ">>> x['a']\n",
       "array([1, 3])\n",
       "\n",
       "Creating an array from sub-classes:\n",
       "\n",
       ">>> np.array(np.mat('1 2; 3 4'))\n",
       "array([[1, 2],\n",
       "       [3, 4]])\n",
       "\n",
       ">>> np.array(np.mat('1 2; 3 4'), subok=True)\n",
       "matrix([[1, 2],\n",
       "        [3, 4]])\n",
       "\u001b[0;31mType:\u001b[0m      builtin_function_or_method\n"
      ]
     },
     "metadata": {},
     "output_type": "display_data"
    }
   ],
   "source": [
    "# a module can contain any number of submodules and object\n",
    "?np.array"
   ]
  },
  {
   "cell_type": "code",
   "execution_count": 16,
   "metadata": {},
   "outputs": [
    {
     "data": {
      "text/plain": [
       "\u001b[0;31mType:\u001b[0m        module\n",
       "\u001b[0;31mString form:\u001b[0m <module 'numpy.random' from '/home/thomas/miniconda2/envs/learn/lib/python3.7/site-packages/numpy/random/__init__.py'>\n",
       "\u001b[0;31mFile:\u001b[0m        ~/miniconda2/envs/learn/lib/python3.7/site-packages/numpy/random/__init__.py\n",
       "\u001b[0;31mDocstring:\u001b[0m  \n",
       "========================\n",
       "Random Number Generation\n",
       "========================\n",
       "\n",
       "Use ``default_rng()`` to create a `Generator` and call its methods.\n",
       "\n",
       "=============== =========================================================\n",
       "Generator\n",
       "--------------- ---------------------------------------------------------\n",
       "Generator       Class implementing all of the random number distributions\n",
       "default_rng     Default constructor for ``Generator``\n",
       "=============== =========================================================\n",
       "\n",
       "============================================= ===\n",
       "BitGenerator Streams that work with Generator\n",
       "--------------------------------------------- ---\n",
       "MT19937\n",
       "PCG64\n",
       "Philox\n",
       "SFC64\n",
       "============================================= ===\n",
       "\n",
       "============================================= ===\n",
       "Getting entropy to initialize a BitGenerator\n",
       "--------------------------------------------- ---\n",
       "SeedSequence\n",
       "============================================= ===\n",
       "\n",
       "\n",
       "Legacy\n",
       "------\n",
       "\n",
       "For backwards compatibility with previous versions of numpy before 1.17, the\n",
       "various aliases to the global `RandomState` methods are left alone and do not\n",
       "use the new `Generator` API.\n",
       "\n",
       "==================== =========================================================\n",
       "Utility functions\n",
       "-------------------- ---------------------------------------------------------\n",
       "random               Uniformly distributed floats over ``[0, 1)``\n",
       "bytes                Uniformly distributed random bytes.\n",
       "permutation          Randomly permute a sequence / generate a random sequence.\n",
       "shuffle              Randomly permute a sequence in place.\n",
       "choice               Random sample from 1-D array.\n",
       "==================== =========================================================\n",
       "\n",
       "==================== =========================================================\n",
       "Compatibility\n",
       "functions - removed\n",
       "in the new API\n",
       "-------------------- ---------------------------------------------------------\n",
       "rand                 Uniformly distributed values.\n",
       "randn                Normally distributed values.\n",
       "ranf                 Uniformly distributed floating point numbers.\n",
       "random_integers      Uniformly distributed integers in a given range.\n",
       "                     (deprecated, use ``integers(..., closed=True)`` instead)\n",
       "random_sample        Alias for `random_sample`\n",
       "randint              Uniformly distributed integers in a given range\n",
       "seed                 Seed the legacy random number generator.\n",
       "==================== =========================================================\n",
       "\n",
       "==================== =========================================================\n",
       "Univariate\n",
       "distributions\n",
       "-------------------- ---------------------------------------------------------\n",
       "beta                 Beta distribution over ``[0, 1]``.\n",
       "binomial             Binomial distribution.\n",
       "chisquare            :math:`\\chi^2` distribution.\n",
       "exponential          Exponential distribution.\n",
       "f                    F (Fisher-Snedecor) distribution.\n",
       "gamma                Gamma distribution.\n",
       "geometric            Geometric distribution.\n",
       "gumbel               Gumbel distribution.\n",
       "hypergeometric       Hypergeometric distribution.\n",
       "laplace              Laplace distribution.\n",
       "logistic             Logistic distribution.\n",
       "lognormal            Log-normal distribution.\n",
       "logseries            Logarithmic series distribution.\n",
       "negative_binomial    Negative binomial distribution.\n",
       "noncentral_chisquare Non-central chi-square distribution.\n",
       "noncentral_f         Non-central F distribution.\n",
       "normal               Normal / Gaussian distribution.\n",
       "pareto               Pareto distribution.\n",
       "poisson              Poisson distribution.\n",
       "power                Power distribution.\n",
       "rayleigh             Rayleigh distribution.\n",
       "triangular           Triangular distribution.\n",
       "uniform              Uniform distribution.\n",
       "vonmises             Von Mises circular distribution.\n",
       "wald                 Wald (inverse Gaussian) distribution.\n",
       "weibull              Weibull distribution.\n",
       "zipf                 Zipf's distribution over ranked data.\n",
       "==================== =========================================================\n",
       "\n",
       "==================== ==========================================================\n",
       "Multivariate\n",
       "distributions\n",
       "-------------------- ----------------------------------------------------------\n",
       "dirichlet            Multivariate generalization of Beta distribution.\n",
       "multinomial          Multivariate generalization of the binomial distribution.\n",
       "multivariate_normal  Multivariate generalization of the normal distribution.\n",
       "==================== ==========================================================\n",
       "\n",
       "==================== =========================================================\n",
       "Standard\n",
       "distributions\n",
       "-------------------- ---------------------------------------------------------\n",
       "standard_cauchy      Standard Cauchy-Lorentz distribution.\n",
       "standard_exponential Standard exponential distribution.\n",
       "standard_gamma       Standard Gamma distribution.\n",
       "standard_normal      Standard normal distribution.\n",
       "standard_t           Standard Student's t-distribution.\n",
       "==================== =========================================================\n",
       "\n",
       "==================== =========================================================\n",
       "Internal functions\n",
       "-------------------- ---------------------------------------------------------\n",
       "get_state            Get tuple representing internal state of generator.\n",
       "set_state            Set state of generator.\n",
       "==================== =========================================================\n"
      ]
     },
     "metadata": {},
     "output_type": "display_data"
    }
   ],
   "source": [
    "?np.random"
   ]
  },
  {
   "cell_type": "code",
   "execution_count": 17,
   "metadata": {},
   "outputs": [
    {
     "data": {
      "text/plain": [
       "array([-0.6460362 ,  1.30585969, -0.63795061, -1.51740996,  0.39075009])"
      ]
     },
     "execution_count": 17,
     "metadata": {},
     "output_type": "execute_result"
    }
   ],
   "source": [
    "np.random.standard_normal(5)"
   ]
  },
  {
   "cell_type": "markdown",
   "metadata": {},
   "source": [
    "## create your own module\n",
    "\n",
    "a module is a folder with a bunch of files and an `__init__.py` empty file.\n",
    "Each `.py` file is considered a submodule\n",
    "\n",
    "```bash\n",
    "mkdir mymodule\n",
    "touch mymodule/__init__.py\n",
    "emacs -nw mymodule/lib.py\n",
    "```"
   ]
  },
  {
   "cell_type": "markdown",
   "metadata": {},
   "source": [
    "let's create the submodule `lib` by creating a file `lib.py` with the fllowing content\n",
    "```python\n",
    "# lib.py\n",
    "\n",
    "class MyClass(object):\n",
    "    \n",
    "    def __init__(self, data):\n",
    "        self.data = data\n",
    "        \n",
    "    def mymethod(self):\n",
    "        print('mymethod: ', self.data)\n",
    "\n",
    "def myrootmethod():\n",
    "    print('hello')\n",
    "    \n",
    "a = 25\n"
   ]
  },
  {
   "cell_type": "code",
   "execution_count": 21,
   "metadata": {},
   "outputs": [
    {
     "ename": "AttributeError",
     "evalue": "module 'mymodule' has no attribute 'lib'",
     "output_type": "error",
     "traceback": [
      "\u001b[0;31m---------------------------------------------------------------------------\u001b[0m",
      "\u001b[0;31mAttributeError\u001b[0m                            Traceback (most recent call last)",
      "\u001b[0;32m<ipython-input-21-7c06bac325ff>\u001b[0m in \u001b[0;36m<module>\u001b[0;34m\u001b[0m\n\u001b[1;32m      1\u001b[0m \u001b[0;32mimport\u001b[0m \u001b[0mmymodule\u001b[0m\u001b[0;34m\u001b[0m\u001b[0;34m\u001b[0m\u001b[0m\n\u001b[0;32m----> 2\u001b[0;31m \u001b[0mprint\u001b[0m\u001b[0;34m(\u001b[0m\u001b[0mmymodule\u001b[0m\u001b[0;34m.\u001b[0m\u001b[0mlib\u001b[0m\u001b[0;34m)\u001b[0m \u001b[0;31m# oups, you must import the submodule also if you want to use it\u001b[0m\u001b[0;34m\u001b[0m\u001b[0;34m\u001b[0m\u001b[0m\n\u001b[0m",
      "\u001b[0;31mAttributeError\u001b[0m: module 'mymodule' has no attribute 'lib'"
     ]
    }
   ],
   "source": [
    "import mymodule\n",
    "print(mymodule.lib) # oups, you must import the submodule also if you want to use it"
   ]
  },
  {
   "cell_type": "code",
   "execution_count": 22,
   "metadata": {},
   "outputs": [
    {
     "name": "stdout",
     "output_type": "stream",
     "text": [
      "25\n",
      "hello\n",
      "mymethod:  25\n"
     ]
    }
   ],
   "source": [
    "import mymodule.lib\n",
    "print(mymodule.lib.a) # you can have access to any variable declared in the submodule\n",
    "mymodule.lib.myrootmethod() # you can have access to any function declared in the submodule\n",
    "myobj = mymodule.lib.MyClass(25)\n",
    "myobj.mymethod()"
   ]
  },
  {
   "cell_type": "code",
   "execution_count": null,
   "metadata": {},
   "outputs": [],
   "source": []
  }
 ],
 "metadata": {
  "kernelspec": {
   "display_name": "Python 3",
   "language": "python",
   "name": "python3"
  },
  "language_info": {
   "codemirror_mode": {
    "name": "ipython",
    "version": 3
   },
   "file_extension": ".py",
   "mimetype": "text/x-python",
   "name": "python",
   "nbconvert_exporter": "python",
   "pygments_lexer": "ipython3",
   "version": "3.7.4"
  }
 },
 "nbformat": 4,
 "nbformat_minor": 4
}
