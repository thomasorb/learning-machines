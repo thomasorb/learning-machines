{
 "cells": [
  {
   "cell_type": "markdown",
   "metadata": {},
   "source": [
    "# Astropy\n",
    "http://docs.astropy.org/"
   ]
  },
  {
   "cell_type": "markdown",
   "metadata": {},
   "source": [
    "## FITS files"
   ]
  },
  {
   "cell_type": "markdown",
   "metadata": {},
   "source": [
    "### open a FITS file"
   ]
  },
  {
   "cell_type": "code",
   "execution_count": 3,
   "metadata": {},
   "outputs": [
    {
     "name": "stdout",
     "output_type": "stream",
     "text": [
      "<class 'astropy.io.fits.hdu.hdulist.HDUList'>\n",
      "<class 'astropy.io.fits.hdu.image.PrimaryHDU'>\n",
      "<type 'numpy.ndarray'>\n",
      "(893, 891)\n",
      "<class 'astropy.io.fits.header.Header'>\n"
     ]
    }
   ],
   "source": [
    "import astropy.io.fits\n",
    "\n",
    "# open a fits file\n",
    "hdulist = astropy.io.fits.open('files/ngc7331.fits') # return an HDU list : a list of Header Data Units\n",
    "print type(hdulist)\n",
    "hdu = hdulist[0] # return the first HDU of the list (with HST images, data may be in the second HDU)\n",
    "print type(hdu)\n",
    "# A Header Data Unit contains a header and the associated data\n",
    "print type(hdu.data) # a numpy array\n",
    "print hdu.data.shape\n",
    "print type(hdu.header) # a Header class"
   ]
  },
  {
   "cell_type": "markdown",
   "metadata": {},
   "source": [
    "### manipulate a header"
   ]
  },
  {
   "cell_type": "code",
   "execution_count": 7,
   "metadata": {
    "scrolled": false
   },
   "outputs": [
    {
     "name": "stdout",
     "output_type": "stream",
     "text": [
      "SIMPLE  =                    T /FITS: Compliance                                \n",
      "BITPIX  =                   16 /FITS: I*2 Data                                  \n",
      "NAXIS   =                    2 /FITS: 2-D Image Data                            \n",
      "NAXIS1  =                  891 /FITS: X Dimension                               \n",
      "NAXIS2  =                  893 /FITS: Y Dimension                               \n",
      "EXTEND  =                    T /FITS: File can contain extensions               \n",
      "DATE    = '2018-05-03        '  /FITS: Creation Date                            \n",
      "ORIGIN  = 'STScI/MAST'         /GSSS: STScI Digitized Sky Survey                \n",
      "SURVEY  = 'POSSII-F'           /GSSS: Sky Survey                                \n",
      "REGION  = 'XP405   '           /GSSS: Region Name                               \n",
      "PLATEID = 'A0VF    '           /GSSS: Plate ID                                  \n",
      "SCANNUM = '01      '           /GSSS: Scan Number                               \n",
      "DSCNDNUM= '00      '           /GSSS: Descendant Number                         \n",
      "TELESCID=                    3 /GSSS: Telescope ID                              \n",
      "BANDPASS=                   35 /GSSS: Bandpass Code                             \n",
      "COPYRGHT= 'Caltech/Palomar'    /GSSS: Copyright Holder                          \n",
      "SITELAT =               33.356 /Observatory: Latitude                           \n",
      "SITELONG=              116.863 /Observatory: Longitude                          \n",
      "TELESCOP= 'Oschin Schmidt - D' /Observatory: Telescope                          \n",
      "INSTRUME= 'Photographic Plate' /Detector: Photographic Plate                    \n",
      "EMULSION= 'IIIaF   '           /Detector: Emulsion                              \n",
      "FILTER  = 'RG610   '           /Detector: Filter                                \n",
      "PLTSCALE=                67.20 /Detector: Plate Scale arcsec per mm             \n",
      "PLTSIZEX=              355.000 /Detector: Plate X Dimension mm                  \n",
      "PLTSIZEY=              355.000 /Detector: Plate Y Dimension mm                  \n",
      "PLATERA =        336.611170000 /Observation: Field centre RA degrees            \n",
      "PLATEDEC=        35.2379530000 /Observation: Field centre Dec degrees           \n",
      "PLTLABEL= 'SF00823 '           /Observation: Plate Label                        \n",
      "DATE-OBS= '1986-09-30T03:33:00' /Observation: Date/Time                         \n",
      "EXPOSURE=                100.0 /Observation: Exposure Minutes                   \n",
      "PLTGRADE= 'A       '           /Observation: Plate Grade                        \n",
      "OBSHA   =              2.25000 /Observation: Hour Angle                         \n",
      "OBSZD   =              27.8100 /Observation: Zenith Distance                    \n",
      "AIRMASS =              1.13026 /Observation: Airmass                            \n",
      "REFBETA =        61.7761480000 /Observation: Refraction Coeff                   \n",
      "REFBETAP=     -0.0820000000000 /Observation: Refraction Coeff                   \n",
      "REFK1   =       -65518.7650000 /Observation: Refraction Coeff                   \n",
      "REFK2   =       -11.4465500000 /Observation: Refraction Coeff                   \n",
      "CNPIX1  =                 3259 /Scan: X Corner                                  \n",
      "CNPIX2  =                 8236 /Scan: Y Corner                                  \n",
      "XPIXELS =                23040 /Scan: X Dimension                               \n",
      "YPIXELS =                23040 /Scan: Y Dimension                               \n",
      "XPIXELSZ=              15.0295 /Scan: Pixel Size microns                        \n",
      "YPIXELSZ=              15.0000 /Scan: Pixel Size microns                        \n",
      "PPO1    =       -3069417.00000 /Scan: Orientation Coeff                         \n",
      "PPO2    =       0.000000000000 /Scan: Orientation Coeff                         \n",
      "PPO3    =        177500.000000 /Scan: Orientation Coeff                         \n",
      "PPO4    =       0.000000000000 /Scan: Orientation Coeff                         \n",
      "PPO5    =        3069417.00000 /Scan: Orientation Coeff                         \n",
      "PPO6    =        177500.000000 /Scan: Orientation Coeff                         \n",
      "PLTRAH  =                   22 /Astrometry: Plate Centre H                      \n",
      "PLTRAM  =                   26 /Astrometry: Plate Centre M                      \n",
      "PLTRAS  =                26.78 /Astrometry: Plate Centre S                      \n",
      "PLTDECSN= '+       '           /Astrometry: Plate Centre +/-                    \n",
      "PLTDECD =                   35 /Astrometry: Plate Centre D                      \n",
      "PLTDECM =                   14 /Astrometry: Plate Centre M                      \n",
      "PLTDECS =                 15.2 /Astrometry: Plate Centre S                      \n",
      "EQUINOX =               2000.0 /Astrometry: Equinox                             \n",
      "AMDX1   =        67.1355696098 /Astrometry: GSC1 Coeff                          \n",
      "AMDX2   =     -0.0103528261894 /Astrometry: GSC1 Coeff                          \n",
      "AMDX3   =       -294.058955559 /Astrometry: GSC1 Coeff                          \n",
      "AMDX4   =  -2.29985195940E-005 /Astrometry: GSC1 Coeff                          \n",
      "AMDX5   =   9.21449735043E-006 /Astrometry: GSC1 Coeff                          \n",
      "AMDX6   =  -7.54494984427E-007 /Astrometry: GSC1 Coeff                          \n",
      "AMDX7   =       0.000000000000 /Astrometry: GSC1 Coeff                          \n",
      "AMDX8   =   2.23204948500E-006 /Astrometry: GSC1 Coeff                          \n",
      "AMDX9   =   7.55384859963E-008 /Astrometry: GSC1 Coeff                          \n",
      "AMDX10  =   2.18866207453E-006 /Astrometry: GSC1 Coeff                          \n",
      "AMDX11  =   2.14222358723E-008 /Astrometry: GSC1 Coeff                          \n",
      "AMDX12  =       0.000000000000 /Astrometry: GSC1 Coeff                          \n",
      "AMDX13  =       0.000000000000 /Astrometry: GSC1 Coeff                          \n",
      "AMDX14  =       0.000000000000 /Astrometry: GSC1 Coeff                          \n",
      "AMDX15  =       0.000000000000 /Astrometry: GSC1 Coeff                          \n",
      "AMDX16  =       0.000000000000 /Astrometry: GSC1 Coeff                          \n",
      "AMDX17  =       0.000000000000 /Astrometry: GSC1 Coeff                          \n",
      "AMDX18  =       0.000000000000 /Astrometry: GSC1 Coeff                          \n",
      "AMDX19  =       0.000000000000 /Astrometry: GSC1 Coeff                          \n",
      "AMDX20  =       0.000000000000 /Astrometry: GSC1 Coeff                          \n",
      "AMDY1   =        67.1348604586 /Astrometry: GSC1 Coeff                          \n",
      "AMDY2   =      0.0127249894300 /Astrometry: GSC1 Coeff                          \n",
      "AMDY3   =        316.913678011 /Astrometry: GSC1 Coeff                          \n",
      "AMDY4   =   3.32035684661E-005 /Astrometry: GSC1 Coeff                          \n",
      "AMDY5   =  -1.28685149612E-005 /Astrometry: GSC1 Coeff                          \n",
      "AMDY6   =  -2.44939404030E-006 /Astrometry: GSC1 Coeff                          \n",
      "AMDY7   =       0.000000000000 /Astrometry: GSC1 Coeff                          \n",
      "AMDY8   =   2.22969569835E-006 /Astrometry: GSC1 Coeff                          \n",
      "AMDY9   =   1.25654542657E-007 /Astrometry: GSC1 Coeff                          \n",
      "AMDY10  =   2.19077890383E-006 /Astrometry: GSC1 Coeff                          \n",
      "AMDY11  =   7.76185988860E-008 /Astrometry: GSC1 Coeff                          \n",
      "AMDY12  =       0.000000000000 /Astrometry: GSC1 Coeff                          \n",
      "AMDY13  =       0.000000000000 /Astrometry: GSC1 Coeff                          \n",
      "AMDY14  =       0.000000000000 /Astrometry: GSC1 Coeff                          \n",
      "AMDY15  =       0.000000000000 /Astrometry: GSC1 Coeff                          \n",
      "AMDY16  =       0.000000000000 /Astrometry: GSC1 Coeff                          \n",
      "AMDY17  =       0.000000000000 /Astrometry: GSC1 Coeff                          \n",
      "AMDY18  =       0.000000000000 /Astrometry: GSC1 Coeff                          \n",
      "AMDY19  =       0.000000000000 /Astrometry: GSC1 Coeff                          \n",
      "AMDY20  =       0.000000000000 /Astrometry: GSC1 Coeff                          \n",
      "AMDREX1 =        67.1297738844 /Astrometry: GSC2 Coeff                          \n",
      "AMDREX2 =    -0.00938562379556 /Astrometry: GSC2 Coeff                          \n",
      "AMDREX3 =       -294.180792470 /Astrometry: GSC2 Coeff                          \n",
      "AMDREX4 =   4.93136266508E-006 /Astrometry: GSC2 Coeff                          \n",
      "AMDREX5 =   1.27142362399E-007 /Astrometry: GSC2 Coeff                          \n",
      "AMDREX6 =   8.26653992258E-006 /Astrometry: GSC2 Coeff                          \n",
      "AMDREX7 =       0.000000000000 /Astrometry: GSC2 Coeff                          \n",
      "AMDREX8 =       0.000000000000 /Astrometry: GSC2 Coeff                          \n",
      "AMDREX9 =       0.000000000000 /Astrometry: GSC2 Coeff                          \n",
      "AMDREX10=       0.000000000000 /Astrometry: GSC2 Coeff                          \n",
      "AMDREX11=       0.000000000000 /Astrometry: GSC2 Coeff                          \n",
      "AMDREX12=       0.000000000000 /Astrometry: GSC2 Coeff                          \n",
      "AMDREX13=       0.000000000000 /Astrometry: GSC2 Coeff                          \n",
      "AMDREX14=       0.000000000000 /Astrometry: GSC2 Coeff                          \n",
      "AMDREX15=       0.000000000000 /Astrometry: GSC2 Coeff                          \n",
      "AMDREX16=       0.000000000000 /Astrometry: GSC2 Coeff                          \n",
      "AMDREX17=       0.000000000000 /Astrometry: GSC2 Coeff                          \n",
      "AMDREX18=       0.000000000000 /Astrometry: GSC2 Coeff                          \n",
      "AMDREX19=       0.000000000000 /Astrometry: GSC2 Coeff                          \n",
      "AMDREX20=       0.000000000000 /Astrometry: GSC2 Coeff                          \n",
      "AMDREY1 =        67.1308465531 /Astrometry: GSC2 Coeff                          \n",
      "AMDREY2 =      0.0151710883211 /Astrometry: GSC2 Coeff                          \n",
      "AMDREY3 =        316.937341538 /Astrometry: GSC2 Coeff                          \n",
      "AMDREY4 =   3.01650209859E-006 /Astrometry: GSC2 Coeff                          \n",
      "AMDREY5 =  -4.13953635444E-006 /Astrometry: GSC2 Coeff                          \n",
      "AMDREY6 =  -5.48039284370E-006 /Astrometry: GSC2 Coeff                          \n",
      "AMDREY7 =       0.000000000000 /Astrometry: GSC2 Coeff                          \n",
      "AMDREY8 =       0.000000000000 /Astrometry: GSC2 Coeff                          \n",
      "AMDREY9 =       0.000000000000 /Astrometry: GSC2 Coeff                          \n",
      "AMDREY10=       0.000000000000 /Astrometry: GSC2 Coeff                          \n",
      "AMDREY11=       0.000000000000 /Astrometry: GSC2 Coeff                          \n",
      "AMDREY12=       0.000000000000 /Astrometry: GSC2 Coeff                          \n",
      "AMDREY13=       0.000000000000 /Astrometry: GSC2 Coeff                          \n",
      "AMDREY14=       0.000000000000 /Astrometry: GSC2 Coeff                          \n",
      "AMDREY15=       0.000000000000 /Astrometry: GSC2 Coeff                          \n",
      "AMDREY16=       0.000000000000 /Astrometry: GSC2 Coeff                          \n",
      "AMDREY17=       0.000000000000 /Astrometry: GSC2 Coeff                          \n",
      "AMDREY18=       0.000000000000 /Astrometry: GSC2 Coeff                          \n",
      "AMDREY19=       0.000000000000 /Astrometry: GSC2 Coeff                          \n",
      "AMDREY20=       0.000000000000 /Astrometry: GSC2 Coeff                          \n",
      "ASTRMASK= 'xp.mask '           /Astrometry: GSC2 Mask                           \n",
      "WCSAXES =                    2 /GetImage: Number WCS axes                       \n",
      "WCSNAME = 'DSS               ' /GetImage: Local WCS approximation from full plat\n",
      "RADESYS = 'ICRS              ' /GetImage: GSC-II calibration using ICRS system  \n",
      "CTYPE1  = 'RA---TAN          ' /GetImage: RA-Gnomic projection                  \n",
      "CRPIX1  =           446.000000 /GetImage: X reference pixel                     \n",
      "CRVAL1  =           339.266603 /GetImage: RA of reference pixel                 \n",
      "CUNIT1  = 'deg               ' /GetImage: degrees                               \n",
      "CTYPE2  = 'DEC--TAN          ' /GetImage: Dec-Gnomic projection                 \n",
      "CRPIX2  =           447.000000 /GetImage: Y reference pixel                     \n",
      "CRVAL2  =            34.415709 /GetImage: Dec of reference pixel                \n",
      "CUNIT2  = 'deg               ' /Getimage: degrees                               \n",
      "CD1_1   =        -0.0002801591 /GetImage: rotation matrix coefficient           \n",
      "CD1_2   =         0.0000073831 /GetImage: rotation matrix coefficient           \n",
      "CD2_1   =         0.0000073325 /GetImage: rotation matrix coefficient           \n",
      "CD2_2   =         0.0002795361 /GetImage: rotation matrix coefficient           \n",
      "OBJECT  = 'data              ' /GetImage: Requested Object Name                 \n",
      "DATAMIN =                 2147 /GetImage: Minimum returned pixel value          \n",
      "DATAMAX =                25332 /GetImage: Maximum returned pixel value          \n",
      "OBJCTRA = '22 37 04.010      ' /GetImage: Requested Right Ascension (J2000)     \n",
      "OBJCTDEC= '+34 24 55.90      ' /GetImage: Requested Declination (J2000)         \n",
      "OBJCTX  =              3704.74 /GetImage: Requested X on plate (pixels)         \n",
      "OBJCTY  =              8682.32 /GetImage: Requested Y on plate (pixels)         \n"
     ]
    }
   ],
   "source": [
    "#print hdu.header\n",
    "print repr(hdu.header) # print the header in a nice format"
   ]
  },
  {
   "cell_type": "code",
   "execution_count": 8,
   "metadata": {},
   "outputs": [
    {
     "name": "stdout",
     "output_type": "stream",
     "text": [
      "2018-05-03\n",
      "none\n",
      "none\n"
     ]
    }
   ],
   "source": [
    "hdu = astropy.io.fits.open('files/ngc7331.fits')[0] # return an HDU\n",
    "# a header is very similar to a dictionary\n",
    "print hdu.header['DATE']\n",
    "# it can be converted to a real one\n",
    "hdu_header_as_adict = dict(hdu.header)\n",
    "# values can be changed\n",
    "hdu.header['DATE'] = 'none'\n",
    "print hdu.header['DATE']\n",
    "# but the original file is not modified unless you choose to overwrite it\n",
    "hdu.writeto('newfile.fits', overwrite=True)\n",
    "# check the header of the new file\n",
    "print astropy.io.fits.open('newfile.fits')[0].header['DATE'] # one line header reading (not to be looped)\n"
   ]
  },
  {
   "cell_type": "markdown",
   "metadata": {},
   "source": [
    "### get the WCS"
   ]
  },
  {
   "cell_type": "code",
   "execution_count": 25,
   "metadata": {},
   "outputs": [
    {
     "name": "stdout",
     "output_type": "stream",
     "text": [
      "<class 'astropy.wcs.wcs.WCS'>\n",
      "WCS Keywords\n",
      "\n",
      "Number of WCS axes: 2\n",
      "CTYPE : 'RA---TAN'  'DEC--TAN'  \n",
      "CRVAL : 336.61158333333333  35.23755555555555  \n",
      "CRPIX : 8260.22325789972  3283.074450478827  \n",
      "PC1_1 PC1_2  : 0.015029579159078583  2.3131286686804793e-06  \n",
      "PC2_1 PC2_2  : -2.8487318577647947e-06  0.014999920558277154  \n",
      "CDELT : -0.018648671115115256  0.018648671115115256  \n",
      "NAXIS : 891  893\n"
     ]
    }
   ],
   "source": [
    "import astropy.wcs\n",
    "header = astropy.io.fits.open('files/ngc7331.fits')[0].header\n",
    "wcs = astropy.wcs.WCS(header)\n",
    "print type(wcs)\n",
    "print wcs"
   ]
  },
  {
   "cell_type": "code",
   "execution_count": 35,
   "metadata": {},
   "outputs": [
    {
     "name": "stdout",
     "output_type": "stream",
     "text": [
      "[array(8263.84159332), array(3255.06443662)]\n",
      "[array(336.61), array(35.23)]\n"
     ]
    }
   ],
   "source": [
    "# use it to convert coordinates to pixel positions and vice-versa\n",
    "pos_deg = [336.61, 35.23]\n",
    "pos_pix = wcs.all_world2pix(pos_deg[0], pos_deg[1], 0)\n",
    "print pos_pix\n",
    "print wcs.all_pix2world(pos_pix[0], pos_pix[1], 0)"
   ]
  },
  {
   "cell_type": "code",
   "execution_count": null,
   "metadata": {},
   "outputs": [],
   "source": []
  }
 ],
 "metadata": {
  "kernelspec": {
   "display_name": "orb",
   "language": "python",
   "name": "orb"
  },
  "language_info": {
   "codemirror_mode": {
    "name": "ipython",
    "version": 2
   },
   "file_extension": ".py",
   "mimetype": "text/x-python",
   "name": "python",
   "nbconvert_exporter": "python",
   "pygments_lexer": "ipython2",
   "version": "2.7.14"
  }
 },
 "nbformat": 4,
 "nbformat_minor": 2
}
