{
 "cells": [
  {
   "cell_type": "code",
   "execution_count": 1,
   "metadata": {},
   "outputs": [
    {
     "data": {
      "application/vnd.jupyter.widget-view+json": {
       "model_id": "9ab995d5cb8b4445991a2d27e25ebfe9",
       "version_major": 2,
       "version_minor": 0
      },
      "text/plain": [
       "interactive(children=(FloatSlider(value=3.0, description='contacts_per_day', max=6.0, step=0.3, style=SliderSt…"
      ]
     },
     "metadata": {},
     "output_type": "display_data"
    }
   ],
   "source": [
    "# COVID-19 simulation\n",
    "# equations of the SIR model are coming from : https://en.wikipedia.org/wiki/Compartmental_models_in_epidemiology\n",
    "# \n",
    "# This is a simplistic toy model for a city counting 10000 people.\n",
    "# \n",
    "# Play with the sliders to get an idea of the uncertainty on the epidemic curves associated with the very uncertain parameters:\n",
    "# \n",
    "# * contacts per day : number of contacts per day of an infected person.\n",
    "# * infection probability : Infection probability each time an infected person meet with another.\n",
    "# * recovery time : time to recover or die of the disease (once a person has recovered it cannot be infected again).\n",
    "# * mortality : probability of dying once infected.\n",
    "# \n",
    "# To start the simulation click 2 times on the triangle above\n",
    "# have fun !\n",
    "# \n",
    "# \n",
    "# NOTE : if anything goes wrong, just click on the arrow (the circular one) above or reload the page\n",
    "\n",
    "import covidlib"
   ]
  }
 ],
 "metadata": {
  "kernelspec": {
   "display_name": "Python 3",
   "language": "python",
   "name": "python3"
  },
  "language_info": {
   "codemirror_mode": {
    "name": "ipython",
    "version": 3
   },
   "file_extension": ".py",
   "mimetype": "text/x-python",
   "name": "python",
   "nbconvert_exporter": "python",
   "pygments_lexer": "ipython3",
   "version": "3.7.4"
  }
 },
 "nbformat": 4,
 "nbformat_minor": 4
}
