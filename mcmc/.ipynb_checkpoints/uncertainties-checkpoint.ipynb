{
 "cells": [
  {
   "cell_type": "markdown",
   "metadata": {},
   "source": [
    "# Dealing with uncertainties"
   ]
  },
  {
   "cell_type": "markdown",
   "metadata": {},
   "source": [
    "* [The analytical way: fast and dangerous](#analytical-way)\n",
    "* [The Philosopher's path: Monte-Carlo and the (not so) long road to truthfullness ](#mc)\n",
    "* [PyNeb example](#pn)"
   ]
  },
  {
   "cell_type": "code",
   "execution_count": 94,
   "metadata": {},
   "outputs": [],
   "source": [
    "import numpy as np\n",
    "import pylab as pl\n",
    "import gvar"
   ]
  },
  {
   "cell_type": "markdown",
   "metadata": {},
   "source": [
    "## The analytical way: fast and dangerous <a class=\"anchor\" id=\"analytical-way\"></a>\n",
    "<img style=\"float: left;\" width=300 src=\"../images/retro0.jpg\">\n"
   ]
  },
  {
   "cell_type": "markdown",
   "metadata": {},
   "source": [
    "### some words on gvar\n",
    "\n",
    "\n",
    "* [gvar github page](https://github.com/gplepage/gvar)\n",
    "\n",
    "* [An article published by the author](http://dx.doi.org/10.1016/S0920-5632(01)01638-3)"
   ]
  },
  {
   "cell_type": "code",
   "execution_count": 95,
   "metadata": {},
   "outputs": [
    {
     "name": "stdout",
     "output_type": "stream",
     "text": [
      "10.0(1.0)\n",
      "22026(24329)\n",
      "----------\n",
      "22026.465794806718\n",
      "24329.026663636672\n",
      "----------\n",
      "1(0)\n",
      "0(0)\n"
     ]
    }
   ],
   "source": [
    "a = gvar.gvar(10, 1)\n",
    "print(a)\n",
    "b = gvar.gvar(10, 1)\n",
    "c = a/b * np.exp(a)\n",
    "print(c) # uncetainty propagation with arbitrary complex operation (as long as they can be analytically described)\n",
    "print('----------')\n",
    "print(gvar.mean(c))\n",
    "print(gvar.sdev(c))\n",
    "print('----------')\n",
    "print(a/a) # yes uncertainty should be 0\n",
    "print(b-b) # here also"
   ]
  },
  {
   "cell_type": "code",
   "execution_count": 96,
   "metadata": {},
   "outputs": [
    {
     "name": "stdout",
     "output_type": "stream",
     "text": [
      "[1.0(1.0) 2.0(1.0) 3.0(1.0) 4.0(1.0) 5.0(1.0) 6.0(1.0) 7.0(1.0) 8.0(1.0)\n",
      " 9.0(1.0) 10.0(1.0) 11.0(1.0) 12.0(1.0) 13.0(1.0) 14.0(1.0) 15.0(1.0)\n",
      " 16.0(1.0) 17.0(1.0) 18.0(1.0) 19.0(1.0) 20.0(1.0) 21.0(1.0) 22.0(1.0)\n",
      " 23.0(1.0) 24.0(1.0) 25.0(1.0)]\n",
      "[2.7(6.1) 7(12) 20(28) 55(70) 148(181) 403(475) 1097(1263) 2981(3374)\n",
      " 8103(9048) 22026(24329) 59874(65544) 162755(176839) 442413(477659)\n",
      " 1.2(1.3)e+06 3.3(3.5)e+06 8.9(9.5)e+06 2.4(2.6)e+07 6.6(6.9)e+07\n",
      " 1.8(1.9)e+08 4.9(5.1)e+08 1.3(1.4)e+09 3.6(3.8)e+09 10(10)e+09\n",
      " 2.6(2.8)e+10 7.2(7.5)e+10]\n",
      "----------\n",
      "[2.71828183e+00 7.38905610e+00 2.00855369e+01 5.45981500e+01\n",
      " 1.48413159e+02 4.03428793e+02 1.09663316e+03 2.98095799e+03\n",
      " 8.10308393e+03 2.20264658e+04 5.98741417e+04 1.62754791e+05\n",
      " 4.42413392e+05 1.20260428e+06 3.26901737e+06 8.88611052e+06\n",
      " 2.41549528e+07 6.56599691e+07 1.78482301e+08 4.85165195e+08\n",
      " 1.31881573e+09 3.58491285e+09 9.74480345e+09 2.64891221e+10\n",
      " 7.20048993e+10]\n",
      "[6.07826295e+00 1.16831235e+01 2.76049301e+01 6.95992581e+01\n",
      " 1.80552401e+02 4.75445393e+02 1.26304845e+03 3.37421533e+03\n",
      " 9.04833174e+03 2.43290267e+04 6.55436491e+04 1.76838571e+05\n",
      " 4.77659066e+05 1.29136476e+06 3.49375568e+06 9.45781308e+06\n",
      " 2.56152708e+07 6.94036729e+07 1.88110805e+08 5.10000706e+08\n",
      " 1.38304304e+09 3.75140416e+09 1.01773135e+10 2.76149010e+10\n",
      " 7.49404632e+10]\n",
      "----------\n",
      "[1(0) 1(0) 1(0) 1(0) 1(0) 1(0) 1(0) 1(0) 1(0) 1(0) 1(0) 1(0) 1(0) 1(0)\n",
      " 1(0) 1(0) 1(0) 1(0) 1(0) 1(0) 1(0) 1(0) 1(0) 1(0) 1(0)]\n",
      "[0(0) 0(0) 0(0) 0(0) 0(0) 0(0) 0(0) 0(0) 0(0) 0(0) 0(0) 0(0) 0(0) 0(0)\n",
      " 0(0) 0(0) 0(0) 0(0) 0(0) 0(0) 0(0) 0(0) 0(0) 0(0) 0(0)]\n"
     ]
    }
   ],
   "source": [
    "# works with arrays\n",
    "a = gvar.gvar(np.arange(25) + 1., np.ones(25))\n",
    "print(a)\n",
    "b = gvar.gvar(np.arange(25) + 1., np.ones(25))\n",
    "c = a/b * np.exp(a)\n",
    "print(c) # uncetainty propagation with arbitrary complex operation (as long as they can be analytically described)\n",
    "print('----------')\n",
    "print(gvar.mean(c))\n",
    "print(gvar.sdev(c))\n",
    "print('----------')\n",
    "print(a/a) # yes uncertainty should be 0\n",
    "print(b-b) # here also"
   ]
  },
  {
   "cell_type": "markdown",
   "metadata": {},
   "source": [
    "### gvar applied to a very simple uncertainty propagation problem\n",
    "\n",
    "In general, problems arise when the uncertainty on a value is of the order of the value itself. **gvar is a very powerful tool that you must use when dealing with propagation uncertainty. As such, it may be the best tool in the Python universe for that**. **But** you must make sure that the distribution of your derived parameter is suffiiently Normal to use it."
   ]
  },
  {
   "cell_type": "code",
   "execution_count": 97,
   "metadata": {},
   "outputs": [
    {
     "name": "stdout",
     "output_type": "stream",
     "text": [
      "0.84(76)\n"
     ]
    }
   ],
   "source": [
    "f = lambda a, b: np.sin(a / b)\n",
    "\n",
    "a = gvar.gvar(0.1,0.1)\n",
    "b = gvar.gvar(0.1,0.1)\n",
    "c = f(a,b)\n",
    "print(c)"
   ]
  },
  {
   "cell_type": "markdown",
   "metadata": {},
   "source": [
    "## The Philosopher's path: Monte-Carlo and the (not so) long road to truthfullness <a class=\"anchor\" id=\"mc\"></a>\n",
    "\n",
    "<img style=\"float: left;\" width=600 src=\"../images/diogene.jpg\">"
   ]
  },
  {
   "cell_type": "markdown",
   "metadata": {},
   "source": [
    "Ok, now that we have our analytically derived uncertainty let's check that the distribution of our values is Normal"
   ]
  },
  {
   "cell_type": "code",
   "execution_count": 98,
   "metadata": {},
   "outputs": [
    {
     "data": {
      "text/plain": [
       "Text(0.5, 1.0, 'oups! this is far from being a gaussian distribution...')"
      ]
     },
     "execution_count": 98,
     "metadata": {},
     "output_type": "execute_result"
    },
    {
     "data": {
      "image/png": "[encoded data removed]",
      "text/plain": [
       "<Figure size 432x288 with 1 Axes>"
      ]
     },
     "metadata": {
      "needs_background": "light"
     },
     "output_type": "display_data"
    }
   ],
   "source": [
    "N = 10000\n",
    "mcs = list()\n",
    "for i in range(N):\n",
    "    # we draw values from the input distributions\n",
    "    ia = gvar.mean(a) + np.random.standard_normal() * gvar.sdev(a)\n",
    "    ib = gvar.mean(b) + np.random.standard_normal() * gvar.sdev(b)\n",
    "    ic = f(ia, ib)\n",
    "    mcs.append(ic)\n",
    "# never ever publish anything based on this formula ;) with such uncertainties on the data\n",
    "pl.hist(mcs, bins=50)\n",
    "pl.title('oups! this is far from being a gaussian distribution...')"
   ]
  },
  {
   "cell_type": "markdown",
   "metadata": {},
   "source": [
    "Hum, what can we do from that... not much in fact. Just try to get more reliable input values."
   ]
  },
  {
   "cell_type": "markdown",
   "metadata": {},
   "source": [
    "### [PyNeb](https://github.com/Morisset/PyNeb_devel) example <a class=\"anchor\" id=\"pn\"></a>\n",
    "\n",
    "from the [introduction manual](https://github.com/Morisset/PyNeb_devel/blob/master/docs/Notebooks/PyNeb_manual_1.ipynb) we can read that\n",
    "> PyNeb is a package for the analysis of emission lines, which evolved from the IRAF package nebular (Shaw and Dufour 1995; Shaw et al 1998)\n"
   ]
  },
  {
   "cell_type": "markdown",
   "metadata": {},
   "source": [
    "#### Compute the temperature and electronic density of an HII region from the ratio of the [OIII]$\\lambda\\lambda$4363/5007 and [SII]$\\lambda\\lambda$6717/6731 lines\n",
    "\n",
    "see https://github.com/Morisset/PyNeb_devel/blob/master/docs/Notebooks/PyNeb_manual_7.ipynb for much more details"
   ]
  },
  {
   "cell_type": "code",
   "execution_count": 99,
   "metadata": {},
   "outputs": [],
   "source": [
    "import pyneb as pn"
   ]
  },
  {
   "cell_type": "code",
   "execution_count": 100,
   "metadata": {},
   "outputs": [
    {
     "name": "stdout",
     "output_type": "stream",
     "text": [
      "0.0050(21)\n",
      "1.00(28)\n",
      "temperature: 9251.89 / density: 482.51\n"
     ]
    }
   ],
   "source": [
    "oiii_4363 = gvar.gvar(0.005, 0.002)\n",
    "oiii_5007 = gvar.gvar(1, 0.1)\n",
    "sii_6716 = gvar.gvar(1, 0.2)\n",
    "sii_6731 = gvar.gvar(1, 0.2)\n",
    "\n",
    "ratio_oiii = oiii_4363 / oiii_5007\n",
    "ratio_sii = sii_6716 / sii_6731\n",
    "print(ratio_oiii)\n",
    "print(ratio_sii)\n",
    "\n",
    "diags = pn.Diagnostics() # instantiate the Diagnostic class\n",
    "\n",
    "tem, den = diags.getCrossTemDen('[OIII] 4363/5007', '[SII] 6731/6716', gvar.mean(ratio_oiii), gvar.mean(ratio_sii), \n",
    "                                guess_tem=10000, tol_tem = 1., tol_den = 1., max_iter = 5)\n",
    "\n",
    "# problem is: we don't know the uncertainties on this calculation\"\n",
    "print('temperature: {:.2f}'.format(tem), '/ density: {:.2f}'.format(den))"
   ]
  },
  {
   "cell_type": "code",
   "execution_count": 101,
   "metadata": {},
   "outputs": [
    {
     "data": {
      "text/plain": [
       "Text(0, 0.5, '[SII] ratio')"
      ]
     },
     "execution_count": 101,
     "metadata": {},
     "output_type": "execute_result"
    },
    {
     "data": {
      "image/png": "[encoded data removed]",
      "text/plain": [
       "<Figure size 432x288 with 1 Axes>"
      ]
     },
     "metadata": {
      "needs_background": "light"
     },
     "output_type": "display_data"
    },
    {
     "data": {
      "image/png": "[encoded data removed]",
      "text/plain": [
       "<Figure size 432x288 with 1 Axes>"
      ]
     },
     "metadata": {
      "needs_background": "light"
     },
     "output_type": "display_data"
    }
   ],
   "source": [
    "# https://github.com/Morisset/PyNeb_devel/blob/master/docs/Notebooks/PyNeb_manual_2.ipynb\n",
    "O3 = pn.Atom('O', 3)\n",
    "S2 = pn.Atom('S', 2)\n",
    "\n",
    "T = 10**np.linspace(3, 7, 1000)\n",
    "oiii_5007_grid = O3.getEmissivity(tem=T, den=1e2, wave=5007) \n",
    "oiii_4363_grid = O3.getEmissivity(tem=T, den=1e2, wave=4363) \n",
    "pl.plot(T, oiii_4363_grid / oiii_5007_grid)\n",
    "pl.xscale('log')\n",
    "pl.ylabel('[OIII] ratio')\n",
    "\n",
    "pl.figure()\n",
    "\n",
    "D = 10**np.linspace(1, 5, 1000)\n",
    "sii_6716_grid = S2.getEmissivity(tem=1e4, den=D, wave=6716) \n",
    "sii_6731_grid = S2.getEmissivity(tem=1e4, den=D, wave=6731) \n",
    "pl.plot(D, sii_6716_grid / sii_6731_grid)\n",
    "pl.xscale('log')\n",
    "pl.ylabel('[SII] ratio')\n"
   ]
  },
  {
   "cell_type": "code",
   "execution_count": 68,
   "metadata": {},
   "outputs": [
    {
     "name": "stdout",
     "output_type": "stream",
     "text": [
      "0 / 1000\n",
      "50 / 1000\n",
      "100 / 1000\n",
      "150 / 1000\n",
      "200 / 1000\n",
      "250 / 1000\n",
      "300 / 1000\n",
      "350 / 1000\n",
      "400 / 1000\n",
      "450 / 1000\n",
      "500 / 1000\n",
      "550 / 1000\n",
      "600 / 1000\n",
      "650 / 1000\n",
      "700 / 1000\n",
      "750 / 1000\n",
      "800 / 1000\n",
      "850 / 1000\n",
      "900 / 1000\n",
      "950 / 1000\n"
     ]
    },
    {
     "data": {
      "text/plain": [
       "(array([148., 158., 155., 105.,  82.,  58.,  54.,  25.,  25.,  17.,  13.,\n",
       "          6.,   5.,   3.,   2.,   2.,   1.,   0.,   2.,   1.,   1.,   0.,\n",
       "          0.,   0.,   0.,   0.,   1.,   0.,   1.,   0.,   0.,   1.,   0.,\n",
       "          0.,   0.,   0.,   0.,   0.,   0.,   0.,   0.,   0.,   0.,   0.,\n",
       "          0.,   0.,   0.,   0.,   0.,   1.]),\n",
       " array([1.00000000e+00, 1.89894256e+02, 3.78788512e+02, 5.67682769e+02,\n",
       "        7.56577025e+02, 9.45471281e+02, 1.13436554e+03, 1.32325979e+03,\n",
       "        1.51215405e+03, 1.70104831e+03, 1.88994256e+03, 2.07883682e+03,\n",
       "        2.26773107e+03, 2.45662533e+03, 2.64551959e+03, 2.83441384e+03,\n",
       "        3.02330810e+03, 3.21220235e+03, 3.40109661e+03, 3.58999087e+03,\n",
       "        3.77888512e+03, 3.96777938e+03, 4.15667364e+03, 4.34556789e+03,\n",
       "        4.53446215e+03, 4.72335640e+03, 4.91225066e+03, 5.10114492e+03,\n",
       "        5.29003917e+03, 5.47893343e+03, 5.66782769e+03, 5.85672194e+03,\n",
       "        6.04561620e+03, 6.23451045e+03, 6.42340471e+03, 6.61229897e+03,\n",
       "        6.80119322e+03, 6.99008748e+03, 7.17898173e+03, 7.36787599e+03,\n",
       "        7.55677025e+03, 7.74566450e+03, 7.93455876e+03, 8.12345302e+03,\n",
       "        8.31234727e+03, 8.50124153e+03, 8.69013578e+03, 8.87903004e+03,\n",
       "        9.06792430e+03, 9.25681855e+03, 9.44571281e+03]),\n",
       " <a list of 50 Patch objects>)"
      ]
     },
     "execution_count": 68,
     "metadata": {},
     "output_type": "execute_result"
    },
    {
     "data": {
      "image/png": "[encoded data removed]",
      "text/plain": [
       "<Figure size 432x288 with 1 Axes>"
      ]
     },
     "metadata": {
      "needs_background": "light"
     },
     "output_type": "display_data"
    },
    {
     "data": {
      "image/png": "[encoded data removed]",
      "text/plain": [
       "<Figure size 432x288 with 1 Axes>"
      ]
     },
     "metadata": {
      "needs_background": "light"
     },
     "output_type": "display_data"
    }
   ],
   "source": [
    "# help me Monte-Carlo !!\n",
    "diags = pn.Diagnostics() # instantiate the Diagnostic class\n",
    "\n",
    "N = 1000\n",
    "tems = list()\n",
    "dens = list()\n",
    "\n",
    "for i in range(N):\n",
    "    if not i%50: print(i, '/', N)\n",
    "    iratio_oiii = gvar.mean(ratio_oiii) + np.random.standard_normal() * gvar.sdev(ratio_oiii)\n",
    "    iratio_sii = gvar.mean(ratio_sii) + np.random.standard_normal() * gvar.sdev(ratio_sii)\n",
    "    item, iden = diags.getCrossTemDen('[OIII] 4363/5007', '[SII] 6731/6716', iratio_oiii, iratio_sii,\n",
    "                                      guess_tem=10000, tol_tem = 1., tol_den = 1., max_iter = 5)\n",
    "    tems.append(item)\n",
    "    dens.append(iden)\n",
    "    \n",
    "pl.hist(tems, 50)\n",
    "pl.figure()\n",
    "pl.hist(dens, 50)"
   ]
  },
  {
   "cell_type": "markdown",
   "metadata": {},
   "source": [
    "### how to deal with such distributions ?\n",
    "\n",
    "One way to deal with this kind of distributions is to show them in an article and give the 16th and 84th percentiles (+/- 1 sigma for Gaussian distribution)\n",
    "\n",
    "* never use the mean !!\n",
    "* be clear about the non-normality of the distribution and the way you have computed the quoted interval\n",
    "\n",
    "For more details on this problem you may have a look at section 2.5 of [Andrae, R., Error estimation in astronomy: A guide](http://arxiv.org/abs/1009)"
   ]
  },
  {
   "cell_type": "code",
   "execution_count": 102,
   "metadata": {},
   "outputs": [
    {
     "name": "stdout",
     "output_type": "stream",
     "text": [
      "68.3 confidence interval, i.e. 1 sigma for a gaussian distribution\n",
      "- temperature: 9.2e+03 (+1.0e+03/-1.1e+03)\n",
      "- density: 5.3e+02 (+6.6e+02/-3.5e+02)\n",
      "\n",
      "95.5 confidence interval, i.e. 2 sigma for a gaussian distribution\n",
      "- temperature: 9.2e+03 (+1.9e+03/-2.6e+03)\n",
      "- density: 5.3e+02 (+1.8e+03/-5.0e+02)\n"
     ]
    }
   ],
   "source": [
    "# this gives the 16, 84 percentiles interval = 68% confidence interval (+/- 1 sigma for Normal distribution)\n",
    "def confidence_interval(dist, level=68.3):\n",
    "    med, low, high = np.nanpercentile(dist, [50, (100 - level) / 2., 100 - (100 - level) / 2])\n",
    "    return med, high-med, med-low\n",
    "    \n",
    "print('68.3 confidence interval, i.e. 1 sigma for a gaussian distribution')\n",
    "print('- temperature: {:.1e} (+{:.1e}/-{:.1e})'.format(*confidence_interval(tems, 68.3)))\n",
    "print('- density: {:.1e} (+{:.1e}/-{:.1e})'.format(*confidence_interval(dens, 68.3)))\n",
    "print()\n",
    "print('95.5 confidence interval, i.e. 2 sigma for a gaussian distribution')\n",
    "print('- temperature: {:.1e} (+{:.1e}/-{:.1e})'.format(*confidence_interval(tems, 95.5)))\n",
    "print('- density: {:.1e} (+{:.1e}/-{:.1e})'.format(*confidence_interval(dens, 95.5)))"
   ]
  }
 ],
 "metadata": {
  "kernelspec": {
   "display_name": "Python 3",
   "language": "python",
   "name": "python3"
  },
  "language_info": {
   "codemirror_mode": {
    "name": "ipython",
    "version": 3
   },
   "file_extension": ".py",
   "mimetype": "text/x-python",
   "name": "python",
   "nbconvert_exporter": "python",
   "pygments_lexer": "ipython3",
   "version": "3.7.5"
  }
 },
 "nbformat": 4,
 "nbformat_minor": 4
}
